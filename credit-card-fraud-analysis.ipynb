{
 "cells": [
  {
   "cell_type": "markdown",
   "id": "5fe65b64",
   "metadata": {
    "papermill": {
     "duration": 0.014832,
     "end_time": "2022-12-22T05:37:28.252018",
     "exception": false,
     "start_time": "2022-12-22T05:37:28.237186",
     "status": "completed"
    },
    "tags": []
   },
   "source": [
    "<h1>CREDIT CARD FRAUD DETECTION</h1>"
   ]
  },
  {
   "cell_type": "markdown",
   "id": "ebd6b01f",
   "metadata": {
    "papermill": {
     "duration": 0.012067,
     "end_time": "2022-12-22T05:37:28.276543",
     "exception": false,
     "start_time": "2022-12-22T05:37:28.264476",
     "status": "completed"
    },
    "tags": []
   },
   "source": [
    "\n",
    "### **Problem Statement :**\n",
    "Build a machine learning model to identify fraudulent credit card Transactions. Pre-process and normalize\n",
    "the transaction data, handle class imbalance issues, and split the dataset into training and testing sets. Train\n",
    "a classification algorithm, such as logistic regression or random forests, to classify transactions as fraudulent\n",
    "or genuine.\n",
    "Evaluate the model' s performance using metrics like precision, recall, and F1-score, and consider techniques\n",
    "like oversampling or under sampling for improving results. \n",
    "\n",
    "### **Aim :**\n",
    "- To classify whether a credit card transaction is fradulent or genuine and handle unbalanced dataset.\n",
    "- It is a **binary classification** problem with highly unbalanced data."
   ]
  },
  {
   "cell_type": "markdown",
   "id": "c77a381d",
   "metadata": {
    "papermill": {
     "duration": 0.012077,
     "end_time": "2022-12-22T05:37:28.300871",
     "exception": false,
     "start_time": "2022-12-22T05:37:28.288794",
     "status": "completed"
    },
    "tags": []
   },
   "source": [
    "### <center>**Dataset Attributes**</center>\n",
    "    \n",
    "- **V1 - V28** : Numerical features that are a result of PCA transformation.\n",
    "\n",
    "- **Time** : Seconds elapsed between each transaction and the 1st transaction.\n",
    "\n",
    "- **Amount** : Transaction amount.\n",
    "\n",
    "- **Class** : Fraud or otherwise (1 or 0)"
   ]
  },
  {
   "cell_type": "markdown",
   "id": "30216370",
   "metadata": {
    "papermill": {
     "duration": 0.012291,
     "end_time": "2022-12-22T05:37:28.374366",
     "exception": false,
     "start_time": "2022-12-22T05:37:28.362075",
     "status": "completed"
    },
    "tags": []
   },
   "source": [
    "### **Import the Necessary Libraries :**"
   ]
  },
  {
   "cell_type": "code",
   "execution_count": 1,
   "id": "b3f87b6c",
   "metadata": {
    "execution": {
     "iopub.execute_input": "2022-12-22T05:37:28.401044Z",
     "iopub.status.busy": "2022-12-22T05:37:28.400466Z",
     "iopub.status.idle": "2022-12-22T05:37:29.191722Z",
     "shell.execute_reply": "2022-12-22T05:37:29.190865Z"
    },
    "papermill": {
     "duration": 0.807266,
     "end_time": "2022-12-22T05:37:29.193968",
     "exception": false,
     "start_time": "2022-12-22T05:37:28.386702",
     "status": "completed"
    },
    "tags": []
   },
   "outputs": [],
   "source": [
    "import pandas as pd\n",
    "import numpy as np\n",
    "import matplotlib.pyplot as plt\n",
    "import seaborn as sns\n",
    "%matplotlib inline\n",
    "pd.options.display.float_format = '{:.2f}'.format"
   ]
  },
  {
   "cell_type": "code",
   "execution_count": 2,
   "id": "f2063de2",
   "metadata": {
    "execution": {
     "iopub.execute_input": "2022-12-22T05:37:29.220561Z",
     "iopub.status.busy": "2022-12-22T05:37:29.220174Z",
     "iopub.status.idle": "2022-12-22T05:37:32.033508Z",
     "shell.execute_reply": "2022-12-22T05:37:32.032700Z"
    },
    "papermill": {
     "duration": 2.828686,
     "end_time": "2022-12-22T05:37:32.035297",
     "exception": false,
     "start_time": "2022-12-22T05:37:29.206611",
     "status": "completed"
    },
    "tags": []
   },
   "outputs": [
    {
     "data": {
      "text/html": [
       "<div>\n",
       "<style scoped>\n",
       "    .dataframe tbody tr th:only-of-type {\n",
       "        vertical-align: middle;\n",
       "    }\n",
       "\n",
       "    .dataframe tbody tr th {\n",
       "        vertical-align: top;\n",
       "    }\n",
       "\n",
       "    .dataframe thead th {\n",
       "        text-align: right;\n",
       "    }\n",
       "</style>\n",
       "<table border=\"1\" class=\"dataframe\">\n",
       "  <thead>\n",
       "    <tr style=\"text-align: right;\">\n",
       "      <th></th>\n",
       "      <th>Time</th>\n",
       "      <th>V1</th>\n",
       "      <th>V2</th>\n",
       "      <th>V3</th>\n",
       "      <th>V4</th>\n",
       "      <th>V5</th>\n",
       "      <th>V6</th>\n",
       "      <th>V7</th>\n",
       "      <th>V8</th>\n",
       "      <th>V9</th>\n",
       "      <th>...</th>\n",
       "      <th>V21</th>\n",
       "      <th>V22</th>\n",
       "      <th>V23</th>\n",
       "      <th>V24</th>\n",
       "      <th>V25</th>\n",
       "      <th>V26</th>\n",
       "      <th>V27</th>\n",
       "      <th>V28</th>\n",
       "      <th>Amount</th>\n",
       "      <th>Class</th>\n",
       "    </tr>\n",
       "  </thead>\n",
       "  <tbody>\n",
       "    <tr>\n",
       "      <th>0</th>\n",
       "      <td>0.00</td>\n",
       "      <td>-1.36</td>\n",
       "      <td>-0.07</td>\n",
       "      <td>2.54</td>\n",
       "      <td>1.38</td>\n",
       "      <td>-0.34</td>\n",
       "      <td>0.46</td>\n",
       "      <td>0.24</td>\n",
       "      <td>0.10</td>\n",
       "      <td>0.36</td>\n",
       "      <td>...</td>\n",
       "      <td>-0.02</td>\n",
       "      <td>0.28</td>\n",
       "      <td>-0.11</td>\n",
       "      <td>0.07</td>\n",
       "      <td>0.13</td>\n",
       "      <td>-0.19</td>\n",
       "      <td>0.13</td>\n",
       "      <td>-0.02</td>\n",
       "      <td>149.62</td>\n",
       "      <td>0</td>\n",
       "    </tr>\n",
       "    <tr>\n",
       "      <th>1</th>\n",
       "      <td>0.00</td>\n",
       "      <td>1.19</td>\n",
       "      <td>0.27</td>\n",
       "      <td>0.17</td>\n",
       "      <td>0.45</td>\n",
       "      <td>0.06</td>\n",
       "      <td>-0.08</td>\n",
       "      <td>-0.08</td>\n",
       "      <td>0.09</td>\n",
       "      <td>-0.26</td>\n",
       "      <td>...</td>\n",
       "      <td>-0.23</td>\n",
       "      <td>-0.64</td>\n",
       "      <td>0.10</td>\n",
       "      <td>-0.34</td>\n",
       "      <td>0.17</td>\n",
       "      <td>0.13</td>\n",
       "      <td>-0.01</td>\n",
       "      <td>0.01</td>\n",
       "      <td>2.69</td>\n",
       "      <td>0</td>\n",
       "    </tr>\n",
       "    <tr>\n",
       "      <th>2</th>\n",
       "      <td>1.00</td>\n",
       "      <td>-1.36</td>\n",
       "      <td>-1.34</td>\n",
       "      <td>1.77</td>\n",
       "      <td>0.38</td>\n",
       "      <td>-0.50</td>\n",
       "      <td>1.80</td>\n",
       "      <td>0.79</td>\n",
       "      <td>0.25</td>\n",
       "      <td>-1.51</td>\n",
       "      <td>...</td>\n",
       "      <td>0.25</td>\n",
       "      <td>0.77</td>\n",
       "      <td>0.91</td>\n",
       "      <td>-0.69</td>\n",
       "      <td>-0.33</td>\n",
       "      <td>-0.14</td>\n",
       "      <td>-0.06</td>\n",
       "      <td>-0.06</td>\n",
       "      <td>378.66</td>\n",
       "      <td>0</td>\n",
       "    </tr>\n",
       "    <tr>\n",
       "      <th>3</th>\n",
       "      <td>1.00</td>\n",
       "      <td>-0.97</td>\n",
       "      <td>-0.19</td>\n",
       "      <td>1.79</td>\n",
       "      <td>-0.86</td>\n",
       "      <td>-0.01</td>\n",
       "      <td>1.25</td>\n",
       "      <td>0.24</td>\n",
       "      <td>0.38</td>\n",
       "      <td>-1.39</td>\n",
       "      <td>...</td>\n",
       "      <td>-0.11</td>\n",
       "      <td>0.01</td>\n",
       "      <td>-0.19</td>\n",
       "      <td>-1.18</td>\n",
       "      <td>0.65</td>\n",
       "      <td>-0.22</td>\n",
       "      <td>0.06</td>\n",
       "      <td>0.06</td>\n",
       "      <td>123.50</td>\n",
       "      <td>0</td>\n",
       "    </tr>\n",
       "    <tr>\n",
       "      <th>4</th>\n",
       "      <td>2.00</td>\n",
       "      <td>-1.16</td>\n",
       "      <td>0.88</td>\n",
       "      <td>1.55</td>\n",
       "      <td>0.40</td>\n",
       "      <td>-0.41</td>\n",
       "      <td>0.10</td>\n",
       "      <td>0.59</td>\n",
       "      <td>-0.27</td>\n",
       "      <td>0.82</td>\n",
       "      <td>...</td>\n",
       "      <td>-0.01</td>\n",
       "      <td>0.80</td>\n",
       "      <td>-0.14</td>\n",
       "      <td>0.14</td>\n",
       "      <td>-0.21</td>\n",
       "      <td>0.50</td>\n",
       "      <td>0.22</td>\n",
       "      <td>0.22</td>\n",
       "      <td>69.99</td>\n",
       "      <td>0</td>\n",
       "    </tr>\n",
       "  </tbody>\n",
       "</table>\n",
       "<p>5 rows × 31 columns</p>\n",
       "</div>"
      ],
      "text/plain": [
       "   Time    V1    V2   V3    V4    V5    V6    V7    V8    V9  ...   V21   V22  \\\n",
       "0  0.00 -1.36 -0.07 2.54  1.38 -0.34  0.46  0.24  0.10  0.36  ... -0.02  0.28   \n",
       "1  0.00  1.19  0.27 0.17  0.45  0.06 -0.08 -0.08  0.09 -0.26  ... -0.23 -0.64   \n",
       "2  1.00 -1.36 -1.34 1.77  0.38 -0.50  1.80  0.79  0.25 -1.51  ...  0.25  0.77   \n",
       "3  1.00 -0.97 -0.19 1.79 -0.86 -0.01  1.25  0.24  0.38 -1.39  ... -0.11  0.01   \n",
       "4  2.00 -1.16  0.88 1.55  0.40 -0.41  0.10  0.59 -0.27  0.82  ... -0.01  0.80   \n",
       "\n",
       "    V23   V24   V25   V26   V27   V28  Amount  Class  \n",
       "0 -0.11  0.07  0.13 -0.19  0.13 -0.02  149.62      0  \n",
       "1  0.10 -0.34  0.17  0.13 -0.01  0.01    2.69      0  \n",
       "2  0.91 -0.69 -0.33 -0.14 -0.06 -0.06  378.66      0  \n",
       "3 -0.19 -1.18  0.65 -0.22  0.06  0.06  123.50      0  \n",
       "4 -0.14  0.14 -0.21  0.50  0.22  0.22   69.99      0  \n",
       "\n",
       "[5 rows x 31 columns]"
      ]
     },
     "execution_count": 2,
     "metadata": {},
     "output_type": "execute_result"
    }
   ],
   "source": [
    "data = pd.read_csv('../input/creditcardfraud/creditcard.csv')\n",
    "data.head()"
   ]
  },
  {
   "cell_type": "markdown",
   "id": "bc9cff57",
   "metadata": {
    "papermill": {
     "duration": 0.012367,
     "end_time": "2022-12-22T05:37:32.063571",
     "exception": false,
     "start_time": "2022-12-22T05:37:32.051204",
     "status": "completed"
    },
    "tags": []
   },
   "source": [
    "### **Data Info :**"
   ]
  },
  {
   "cell_type": "code",
   "execution_count": 3,
   "id": "bf437901",
   "metadata": {
    "execution": {
     "iopub.execute_input": "2022-12-22T05:37:32.089880Z",
     "iopub.status.busy": "2022-12-22T05:37:32.089596Z",
     "iopub.status.idle": "2022-12-22T05:37:32.094945Z",
     "shell.execute_reply": "2022-12-22T05:37:32.094174Z"
    },
    "papermill": {
     "duration": 0.020345,
     "end_time": "2022-12-22T05:37:32.096460",
     "exception": false,
     "start_time": "2022-12-22T05:37:32.076115",
     "status": "completed"
    },
    "tags": []
   },
   "outputs": [
    {
     "data": {
      "text/plain": [
       "(284807, 31)"
      ]
     },
     "execution_count": 3,
     "metadata": {},
     "output_type": "execute_result"
    }
   ],
   "source": [
    "data.shape"
   ]
  },
  {
   "cell_type": "code",
   "execution_count": 4,
   "id": "d4377f60",
   "metadata": {
    "execution": {
     "iopub.execute_input": "2022-12-22T05:37:32.123250Z",
     "iopub.status.busy": "2022-12-22T05:37:32.122846Z",
     "iopub.status.idle": "2022-12-22T05:37:32.129491Z",
     "shell.execute_reply": "2022-12-22T05:37:32.128580Z"
    },
    "papermill": {
     "duration": 0.022515,
     "end_time": "2022-12-22T05:37:32.131594",
     "exception": false,
     "start_time": "2022-12-22T05:37:32.109079",
     "status": "completed"
    },
    "scrolled": true,
    "tags": []
   },
   "outputs": [
    {
     "data": {
      "text/plain": [
       "Index(['Time', 'V1', 'V2', 'V3', 'V4', 'V5', 'V6', 'V7', 'V8', 'V9', 'V10',\n",
       "       'V11', 'V12', 'V13', 'V14', 'V15', 'V16', 'V17', 'V18', 'V19', 'V20',\n",
       "       'V21', 'V22', 'V23', 'V24', 'V25', 'V26', 'V27', 'V28', 'Amount',\n",
       "       'Class'],\n",
       "      dtype='object')"
      ]
     },
     "execution_count": 4,
     "metadata": {},
     "output_type": "execute_result"
    }
   ],
   "source": [
    "data.columns"
   ]
  },
  {
   "cell_type": "code",
   "execution_count": 5,
   "id": "6075e07b",
   "metadata": {
    "execution": {
     "iopub.execute_input": "2022-12-22T05:37:32.158695Z",
     "iopub.status.busy": "2022-12-22T05:37:32.158347Z",
     "iopub.status.idle": "2022-12-22T05:37:32.187131Z",
     "shell.execute_reply": "2022-12-22T05:37:32.185831Z"
    },
    "papermill": {
     "duration": 0.044547,
     "end_time": "2022-12-22T05:37:32.188898",
     "exception": false,
     "start_time": "2022-12-22T05:37:32.144351",
     "status": "completed"
    },
    "tags": []
   },
   "outputs": [
    {
     "name": "stdout",
     "output_type": "stream",
     "text": [
      "<class 'pandas.core.frame.DataFrame'>\n",
      "RangeIndex: 284807 entries, 0 to 284806\n",
      "Data columns (total 31 columns):\n",
      " #   Column  Non-Null Count   Dtype  \n",
      "---  ------  --------------   -----  \n",
      " 0   Time    284807 non-null  float64\n",
      " 1   V1      284807 non-null  float64\n",
      " 2   V2      284807 non-null  float64\n",
      " 3   V3      284807 non-null  float64\n",
      " 4   V4      284807 non-null  float64\n",
      " 5   V5      284807 non-null  float64\n",
      " 6   V6      284807 non-null  float64\n",
      " 7   V7      284807 non-null  float64\n",
      " 8   V8      284807 non-null  float64\n",
      " 9   V9      284807 non-null  float64\n",
      " 10  V10     284807 non-null  float64\n",
      " 11  V11     284807 non-null  float64\n",
      " 12  V12     284807 non-null  float64\n",
      " 13  V13     284807 non-null  float64\n",
      " 14  V14     284807 non-null  float64\n",
      " 15  V15     284807 non-null  float64\n",
      " 16  V16     284807 non-null  float64\n",
      " 17  V17     284807 non-null  float64\n",
      " 18  V18     284807 non-null  float64\n",
      " 19  V19     284807 non-null  float64\n",
      " 20  V20     284807 non-null  float64\n",
      " 21  V21     284807 non-null  float64\n",
      " 22  V22     284807 non-null  float64\n",
      " 23  V23     284807 non-null  float64\n",
      " 24  V24     284807 non-null  float64\n",
      " 25  V25     284807 non-null  float64\n",
      " 26  V26     284807 non-null  float64\n",
      " 27  V27     284807 non-null  float64\n",
      " 28  V28     284807 non-null  float64\n",
      " 29  Amount  284807 non-null  float64\n",
      " 30  Class   284807 non-null  int64  \n",
      "dtypes: float64(30), int64(1)\n",
      "memory usage: 67.4 MB\n"
     ]
    }
   ],
   "source": [
    "data.info()"
   ]
  },
  {
   "cell_type": "markdown",
   "id": "687651fe",
   "metadata": {
    "papermill": {
     "duration": 0.013612,
     "end_time": "2022-12-22T05:37:32.215767",
     "exception": false,
     "start_time": "2022-12-22T05:37:32.202155",
     "status": "completed"
    },
    "tags": []
   },
   "source": [
    "- **No null values** present in the data!"
   ]
  },
  {
   "cell_type": "code",
   "execution_count": 6,
   "id": "7dd8cf9b",
   "metadata": {
    "execution": {
     "iopub.execute_input": "2022-12-22T05:37:32.243751Z",
     "iopub.status.busy": "2022-12-22T05:37:32.242595Z",
     "iopub.status.idle": "2022-12-22T05:37:32.553708Z",
     "shell.execute_reply": "2022-12-22T05:37:32.552731Z"
    },
    "papermill": {
     "duration": 0.326834,
     "end_time": "2022-12-22T05:37:32.555536",
     "exception": false,
     "start_time": "2022-12-22T05:37:32.228702",
     "status": "completed"
    },
    "tags": []
   },
   "outputs": [
    {
     "data": {
      "text/html": [
       "<div>\n",
       "<style scoped>\n",
       "    .dataframe tbody tr th:only-of-type {\n",
       "        vertical-align: middle;\n",
       "    }\n",
       "\n",
       "    .dataframe tbody tr th {\n",
       "        vertical-align: top;\n",
       "    }\n",
       "\n",
       "    .dataframe thead th {\n",
       "        text-align: right;\n",
       "    }\n",
       "</style>\n",
       "<table border=\"1\" class=\"dataframe\">\n",
       "  <thead>\n",
       "    <tr style=\"text-align: right;\">\n",
       "      <th></th>\n",
       "      <th>Time</th>\n",
       "      <th>V1</th>\n",
       "      <th>V2</th>\n",
       "      <th>V3</th>\n",
       "      <th>V4</th>\n",
       "      <th>V5</th>\n",
       "      <th>V6</th>\n",
       "      <th>V7</th>\n",
       "      <th>V8</th>\n",
       "      <th>V9</th>\n",
       "      <th>...</th>\n",
       "      <th>V21</th>\n",
       "      <th>V22</th>\n",
       "      <th>V23</th>\n",
       "      <th>V24</th>\n",
       "      <th>V25</th>\n",
       "      <th>V26</th>\n",
       "      <th>V27</th>\n",
       "      <th>V28</th>\n",
       "      <th>Amount</th>\n",
       "      <th>Class</th>\n",
       "    </tr>\n",
       "  </thead>\n",
       "  <tbody>\n",
       "    <tr>\n",
       "      <th>count</th>\n",
       "      <td>284807.00</td>\n",
       "      <td>284807.00</td>\n",
       "      <td>284807.00</td>\n",
       "      <td>284807.00</td>\n",
       "      <td>284807.00</td>\n",
       "      <td>284807.00</td>\n",
       "      <td>284807.00</td>\n",
       "      <td>284807.00</td>\n",
       "      <td>284807.00</td>\n",
       "      <td>284807.00</td>\n",
       "      <td>...</td>\n",
       "      <td>284807.00</td>\n",
       "      <td>284807.00</td>\n",
       "      <td>284807.00</td>\n",
       "      <td>284807.00</td>\n",
       "      <td>284807.00</td>\n",
       "      <td>284807.00</td>\n",
       "      <td>284807.00</td>\n",
       "      <td>284807.00</td>\n",
       "      <td>284807.00</td>\n",
       "      <td>284807.00</td>\n",
       "    </tr>\n",
       "    <tr>\n",
       "      <th>mean</th>\n",
       "      <td>94813.86</td>\n",
       "      <td>0.00</td>\n",
       "      <td>0.00</td>\n",
       "      <td>-0.00</td>\n",
       "      <td>0.00</td>\n",
       "      <td>0.00</td>\n",
       "      <td>0.00</td>\n",
       "      <td>-0.00</td>\n",
       "      <td>0.00</td>\n",
       "      <td>-0.00</td>\n",
       "      <td>...</td>\n",
       "      <td>0.00</td>\n",
       "      <td>-0.00</td>\n",
       "      <td>0.00</td>\n",
       "      <td>0.00</td>\n",
       "      <td>0.00</td>\n",
       "      <td>0.00</td>\n",
       "      <td>-0.00</td>\n",
       "      <td>-0.00</td>\n",
       "      <td>88.35</td>\n",
       "      <td>0.00</td>\n",
       "    </tr>\n",
       "    <tr>\n",
       "      <th>std</th>\n",
       "      <td>47488.15</td>\n",
       "      <td>1.96</td>\n",
       "      <td>1.65</td>\n",
       "      <td>1.52</td>\n",
       "      <td>1.42</td>\n",
       "      <td>1.38</td>\n",
       "      <td>1.33</td>\n",
       "      <td>1.24</td>\n",
       "      <td>1.19</td>\n",
       "      <td>1.10</td>\n",
       "      <td>...</td>\n",
       "      <td>0.73</td>\n",
       "      <td>0.73</td>\n",
       "      <td>0.62</td>\n",
       "      <td>0.61</td>\n",
       "      <td>0.52</td>\n",
       "      <td>0.48</td>\n",
       "      <td>0.40</td>\n",
       "      <td>0.33</td>\n",
       "      <td>250.12</td>\n",
       "      <td>0.04</td>\n",
       "    </tr>\n",
       "    <tr>\n",
       "      <th>min</th>\n",
       "      <td>0.00</td>\n",
       "      <td>-56.41</td>\n",
       "      <td>-72.72</td>\n",
       "      <td>-48.33</td>\n",
       "      <td>-5.68</td>\n",
       "      <td>-113.74</td>\n",
       "      <td>-26.16</td>\n",
       "      <td>-43.56</td>\n",
       "      <td>-73.22</td>\n",
       "      <td>-13.43</td>\n",
       "      <td>...</td>\n",
       "      <td>-34.83</td>\n",
       "      <td>-10.93</td>\n",
       "      <td>-44.81</td>\n",
       "      <td>-2.84</td>\n",
       "      <td>-10.30</td>\n",
       "      <td>-2.60</td>\n",
       "      <td>-22.57</td>\n",
       "      <td>-15.43</td>\n",
       "      <td>0.00</td>\n",
       "      <td>0.00</td>\n",
       "    </tr>\n",
       "    <tr>\n",
       "      <th>25%</th>\n",
       "      <td>54201.50</td>\n",
       "      <td>-0.92</td>\n",
       "      <td>-0.60</td>\n",
       "      <td>-0.89</td>\n",
       "      <td>-0.85</td>\n",
       "      <td>-0.69</td>\n",
       "      <td>-0.77</td>\n",
       "      <td>-0.55</td>\n",
       "      <td>-0.21</td>\n",
       "      <td>-0.64</td>\n",
       "      <td>...</td>\n",
       "      <td>-0.23</td>\n",
       "      <td>-0.54</td>\n",
       "      <td>-0.16</td>\n",
       "      <td>-0.35</td>\n",
       "      <td>-0.32</td>\n",
       "      <td>-0.33</td>\n",
       "      <td>-0.07</td>\n",
       "      <td>-0.05</td>\n",
       "      <td>5.60</td>\n",
       "      <td>0.00</td>\n",
       "    </tr>\n",
       "    <tr>\n",
       "      <th>50%</th>\n",
       "      <td>84692.00</td>\n",
       "      <td>0.02</td>\n",
       "      <td>0.07</td>\n",
       "      <td>0.18</td>\n",
       "      <td>-0.02</td>\n",
       "      <td>-0.05</td>\n",
       "      <td>-0.27</td>\n",
       "      <td>0.04</td>\n",
       "      <td>0.02</td>\n",
       "      <td>-0.05</td>\n",
       "      <td>...</td>\n",
       "      <td>-0.03</td>\n",
       "      <td>0.01</td>\n",
       "      <td>-0.01</td>\n",
       "      <td>0.04</td>\n",
       "      <td>0.02</td>\n",
       "      <td>-0.05</td>\n",
       "      <td>0.00</td>\n",
       "      <td>0.01</td>\n",
       "      <td>22.00</td>\n",
       "      <td>0.00</td>\n",
       "    </tr>\n",
       "    <tr>\n",
       "      <th>75%</th>\n",
       "      <td>139320.50</td>\n",
       "      <td>1.32</td>\n",
       "      <td>0.80</td>\n",
       "      <td>1.03</td>\n",
       "      <td>0.74</td>\n",
       "      <td>0.61</td>\n",
       "      <td>0.40</td>\n",
       "      <td>0.57</td>\n",
       "      <td>0.33</td>\n",
       "      <td>0.60</td>\n",
       "      <td>...</td>\n",
       "      <td>0.19</td>\n",
       "      <td>0.53</td>\n",
       "      <td>0.15</td>\n",
       "      <td>0.44</td>\n",
       "      <td>0.35</td>\n",
       "      <td>0.24</td>\n",
       "      <td>0.09</td>\n",
       "      <td>0.08</td>\n",
       "      <td>77.16</td>\n",
       "      <td>0.00</td>\n",
       "    </tr>\n",
       "    <tr>\n",
       "      <th>max</th>\n",
       "      <td>172792.00</td>\n",
       "      <td>2.45</td>\n",
       "      <td>22.06</td>\n",
       "      <td>9.38</td>\n",
       "      <td>16.88</td>\n",
       "      <td>34.80</td>\n",
       "      <td>73.30</td>\n",
       "      <td>120.59</td>\n",
       "      <td>20.01</td>\n",
       "      <td>15.59</td>\n",
       "      <td>...</td>\n",
       "      <td>27.20</td>\n",
       "      <td>10.50</td>\n",
       "      <td>22.53</td>\n",
       "      <td>4.58</td>\n",
       "      <td>7.52</td>\n",
       "      <td>3.52</td>\n",
       "      <td>31.61</td>\n",
       "      <td>33.85</td>\n",
       "      <td>25691.16</td>\n",
       "      <td>1.00</td>\n",
       "    </tr>\n",
       "  </tbody>\n",
       "</table>\n",
       "<p>8 rows × 31 columns</p>\n",
       "</div>"
      ],
      "text/plain": [
       "           Time        V1        V2        V3        V4        V5        V6  \\\n",
       "count 284807.00 284807.00 284807.00 284807.00 284807.00 284807.00 284807.00   \n",
       "mean   94813.86      0.00      0.00     -0.00      0.00      0.00      0.00   \n",
       "std    47488.15      1.96      1.65      1.52      1.42      1.38      1.33   \n",
       "min        0.00    -56.41    -72.72    -48.33     -5.68   -113.74    -26.16   \n",
       "25%    54201.50     -0.92     -0.60     -0.89     -0.85     -0.69     -0.77   \n",
       "50%    84692.00      0.02      0.07      0.18     -0.02     -0.05     -0.27   \n",
       "75%   139320.50      1.32      0.80      1.03      0.74      0.61      0.40   \n",
       "max   172792.00      2.45     22.06      9.38     16.88     34.80     73.30   \n",
       "\n",
       "             V7        V8        V9  ...       V21       V22       V23  \\\n",
       "count 284807.00 284807.00 284807.00  ... 284807.00 284807.00 284807.00   \n",
       "mean      -0.00      0.00     -0.00  ...      0.00     -0.00      0.00   \n",
       "std        1.24      1.19      1.10  ...      0.73      0.73      0.62   \n",
       "min      -43.56    -73.22    -13.43  ...    -34.83    -10.93    -44.81   \n",
       "25%       -0.55     -0.21     -0.64  ...     -0.23     -0.54     -0.16   \n",
       "50%        0.04      0.02     -0.05  ...     -0.03      0.01     -0.01   \n",
       "75%        0.57      0.33      0.60  ...      0.19      0.53      0.15   \n",
       "max      120.59     20.01     15.59  ...     27.20     10.50     22.53   \n",
       "\n",
       "            V24       V25       V26       V27       V28    Amount     Class  \n",
       "count 284807.00 284807.00 284807.00 284807.00 284807.00 284807.00 284807.00  \n",
       "mean       0.00      0.00      0.00     -0.00     -0.00     88.35      0.00  \n",
       "std        0.61      0.52      0.48      0.40      0.33    250.12      0.04  \n",
       "min       -2.84    -10.30     -2.60    -22.57    -15.43      0.00      0.00  \n",
       "25%       -0.35     -0.32     -0.33     -0.07     -0.05      5.60      0.00  \n",
       "50%        0.04      0.02     -0.05      0.00      0.01     22.00      0.00  \n",
       "75%        0.44      0.35      0.24      0.09      0.08     77.16      0.00  \n",
       "max        4.58      7.52      3.52     31.61     33.85  25691.16      1.00  \n",
       "\n",
       "[8 rows x 31 columns]"
      ]
     },
     "execution_count": 6,
     "metadata": {},
     "output_type": "execute_result"
    }
   ],
   "source": [
    "data.describe()"
   ]
  },
  {
   "cell_type": "code",
   "execution_count": 7,
   "id": "b47fd7f8",
   "metadata": {
    "execution": {
     "iopub.execute_input": "2022-12-22T05:37:32.584064Z",
     "iopub.status.busy": "2022-12-22T05:37:32.583731Z",
     "iopub.status.idle": "2022-12-22T05:37:34.058400Z",
     "shell.execute_reply": "2022-12-22T05:37:34.057773Z"
    },
    "papermill": {
     "duration": 1.490775,
     "end_time": "2022-12-22T05:37:34.060238",
     "exception": false,
     "start_time": "2022-12-22T05:37:32.569463",
     "status": "completed"
    },
    "tags": []
   },
   "outputs": [
    {
     "data": {
      "image/png": "[encoded data removed]",
      "text/plain": [
       "<Figure size 360x1080 with 4 Axes>"
      ]
     },
     "metadata": {
      "needs_background": "light"
     },
     "output_type": "display_data"
    }
   ],
   "source": [
    "fraud = data[data['Class'] == 1].describe().T\n",
    "nofraud = data[data['Class'] == 0].describe().T\n",
    "\n",
    "colors = ['#0FF0FC','#BC13FE']\n",
    "\n",
    "fig,ax = plt.subplots(nrows = 2,ncols = 2,figsize = (5,15))\n",
    "plt.subplot(2,2,1)\n",
    "sns.heatmap(fraud[['mean']][:15],annot = True,cmap = colors,linewidths = 0.5,linecolor = 'black',cbar = False,fmt = '.2f')\n",
    "plt.title('Fraud Samples : Part 1');\n",
    "\n",
    "plt.subplot(2,2,2)\n",
    "sns.heatmap(fraud[['mean']][15:30],annot = True,cmap = colors,linewidths = 0.5,linecolor = 'black',cbar = False,fmt = '.2f')\n",
    "plt.title('Fraud Samples : Part 2');\n",
    "\n",
    "plt.subplot(2,2,3)\n",
    "sns.heatmap(nofraud[['mean']][:15],annot = True,cmap = colors,linewidths = 0.5,linecolor = 'black',cbar = False,fmt = '.2f')\n",
    "plt.title('No Fraud Samples : Part 1');\n",
    "\n",
    "plt.subplot(2,2,4)\n",
    "sns.heatmap(nofraud[['mean']][15:30],annot = True,cmap = colors,linewidths = 0.5,linecolor = 'black',cbar = False,fmt = '.2f')\n",
    "plt.title('No Fraud Samples : Part 2');\n",
    "\n",
    "fig.tight_layout(w_pad = 2)"
   ]
  },
  {
   "cell_type": "markdown",
   "id": "14f0a025",
   "metadata": {
    "papermill": {
     "duration": 0.014456,
     "end_time": "2022-12-22T05:37:34.089605",
     "exception": false,
     "start_time": "2022-12-22T05:37:34.075149",
     "status": "completed"
    },
    "tags": []
   },
   "source": [
    "- **Mean** values of features for **Fraud** & **No Fraud** cases!\n",
    "- For **No Fraud** cases, **V1 - V28** mean values are almost **0** for all the cases. Mean **Amount**, 88.29, is less than the mean transaction amount, 122.21, of the **Fraud** cases.\n",
    "- **Time** taken for **No Fraud** transactions is more than those for **Fraud** transactions.\n",
    "- These could be some of the indicators for detecting **fraud** transactions."
   ]
  },
  {
   "cell_type": "markdown",
   "id": "6e1b402d",
   "metadata": {
    "papermill": {
     "duration": 0.013841,
     "end_time": "2022-12-22T05:37:34.145170",
     "exception": false,
     "start_time": "2022-12-22T05:37:34.131329",
     "status": "completed"
    },
    "tags": []
   },
   "source": [
    "### **Target Variable Visualization (Class) :** "
   ]
  },
  {
   "cell_type": "code",
   "execution_count": 8,
   "id": "009af114",
   "metadata": {
    "execution": {
     "iopub.execute_input": "2022-12-22T05:37:34.174578Z",
     "iopub.status.busy": "2022-12-22T05:37:34.174232Z",
     "iopub.status.idle": "2022-12-22T05:37:34.433938Z",
     "shell.execute_reply": "2022-12-22T05:37:34.432757Z"
    },
    "papermill": {
     "duration": 0.276632,
     "end_time": "2022-12-22T05:37:34.435837",
     "exception": false,
     "start_time": "2022-12-22T05:37:34.159205",
     "status": "completed"
    },
    "tags": []
   },
   "outputs": [
    {
     "name": "stderr",
     "output_type": "stream",
     "text": [
      "/opt/conda/lib/python3.7/site-packages/seaborn/_decorators.py:43: FutureWarning: Pass the following variable as a keyword arg: x. From version 0.12, the only valid positional argument will be `data`, and passing other arguments without an explicit keyword will result in an error or misinterpretation.\n",
      "  FutureWarning\n"
     ]
    },
    {
     "data": {
      "image/png": "[encoded data removed]",
      "text/plain": [
       "<Figure size 1440x360 with 2 Axes>"
      ]
     },
     "metadata": {
      "needs_background": "light"
     },
     "output_type": "display_data"
    }
   ],
   "source": [
    "fraud = len(data[data['Class'] == 1]) / len(data) * 100\n",
    "nofraud = len(data[data['Class'] == 0]) / len(data) * 100\n",
    "fraud_percentage = [nofraud,fraud]\n",
    "\n",
    "fig,ax = plt.subplots(nrows = 1,ncols = 2,figsize = (20,5))\n",
    "plt.subplot(1,2,1)\n",
    "plt.pie(fraud_percentage,labels = ['Fraud','No Fraud'],autopct='%1.1f%%',startangle = 90,colors = colors,\n",
    "       wedgeprops = {'edgecolor' : 'black','linewidth': 1,'antialiased' : True})\n",
    "\n",
    "plt.subplot(1,2,2)\n",
    "ax = sns.countplot('Class',data = data,edgecolor = 'black',palette = colors)\n",
    "for rect in ax.patches:\n",
    "    ax.text(rect.get_x() + rect.get_width() / 2, rect.get_height() + 2, rect.get_height(), horizontalalignment='center', fontsize = 11)\n",
    "ax.set_xticklabels(['No Fraud','Fraud'])\n",
    "plt.title('Number of Fraud Cases');"
   ]
  },
  {
   "cell_type": "markdown",
   "id": "331c513d",
   "metadata": {
    "papermill": {
     "duration": 0.01434,
     "end_time": "2022-12-22T05:37:34.464837",
     "exception": false,
     "start_time": "2022-12-22T05:37:34.450497",
     "status": "completed"
    },
    "tags": []
   },
   "source": [
    "- The data is clearly **highly unbalanced** with majority of the transactions being **No Fraud**. \n",
    "- Due to highly unbalanced data, the classification model will bias its prediction towards the majority class, **No Fraud**. \n",
    "- Hence, data balancing becomes a crucial part in building a robust model. "
   ]
  },
  {
   "cell_type": "markdown",
   "id": "842a42ce",
   "metadata": {
    "papermill": {
     "duration": 0.014118,
     "end_time": "2022-12-22T05:37:34.522434",
     "exception": false,
     "start_time": "2022-12-22T05:37:34.508316",
     "status": "completed"
    },
    "tags": []
   },
   "source": [
    "### **Correlation Matrix :**"
   ]
  },
  {
   "cell_type": "code",
   "execution_count": 9,
   "id": "1d34cce9",
   "metadata": {
    "execution": {
     "iopub.execute_input": "2022-12-22T05:37:34.553283Z",
     "iopub.status.busy": "2022-12-22T05:37:34.552367Z",
     "iopub.status.idle": "2022-12-22T05:37:35.354190Z",
     "shell.execute_reply": "2022-12-22T05:37:35.353269Z"
    },
    "papermill": {
     "duration": 0.819464,
     "end_time": "2022-12-22T05:37:35.356310",
     "exception": false,
     "start_time": "2022-12-22T05:37:34.536846",
     "status": "completed"
    },
    "tags": []
   },
   "outputs": [
    {
     "data": {
      "text/plain": [
       "<AxesSubplot:>"
      ]
     },
     "execution_count": 9,
     "metadata": {},
     "output_type": "execute_result"
    },
    {
     "data": {
      "image/png": "[encoded data removed]",
      "text/plain": [
       "<Figure size 432x288 with 2 Axes>"
      ]
     },
     "metadata": {
      "needs_background": "light"
     },
     "output_type": "display_data"
    }
   ],
   "source": [
    "sns.heatmap(data.corr(),cmap = colors,cbar = True)"
   ]
  },
  {
   "cell_type": "markdown",
   "id": "198c5b16",
   "metadata": {
    "papermill": {
     "duration": 0.014447,
     "end_time": "2022-12-22T05:37:35.385855",
     "exception": false,
     "start_time": "2022-12-22T05:37:35.371408",
     "status": "completed"
    },
    "tags": []
   },
   "source": [
    "- There are too many features in the dataset and it is difficult to understand anything. \n",
    "- Hence, we will plot the correlation map only with the target variable."
   ]
  },
  {
   "cell_type": "code",
   "execution_count": 10,
   "id": "632ed7a8",
   "metadata": {
    "execution": {
     "iopub.execute_input": "2022-12-22T05:37:35.417404Z",
     "iopub.status.busy": "2022-12-22T05:37:35.416464Z",
     "iopub.status.idle": "2022-12-22T05:37:35.905462Z",
     "shell.execute_reply": "2022-12-22T05:37:35.904590Z"
    },
    "papermill": {
     "duration": 0.507526,
     "end_time": "2022-12-22T05:37:35.907996",
     "exception": false,
     "start_time": "2022-12-22T05:37:35.400470",
     "status": "completed"
    },
    "tags": []
   },
   "outputs": [
    {
     "data": {
      "image/png": "[encoded data removed]",
      "text/plain": [
       "<Figure size 360x720 with 2 Axes>"
      ]
     },
     "metadata": {
      "needs_background": "light"
     },
     "output_type": "display_data"
    }
   ],
   "source": [
    "corr = data.corrwith(data['Class']).sort_values(ascending = False).to_frame()\n",
    "corr.columns = ['Correlation']\n",
    "fig,ax = plt.subplots(nrows = 1,ncols = 2,figsize = (5,10))\n",
    "\n",
    "plt.subplot(1,2,1)\n",
    "sns.heatmap(corr.iloc[:15,:],annot = True,cmap = colors,linewidths = 0.4,linecolor = 'black',cbar = False)\n",
    "plt.title('Part 1')\n",
    "\n",
    "plt.subplot(1,2,2)\n",
    "sns.heatmap(corr.iloc[15:30],annot = True,cmap = colors,linewidths = 0.4,linecolor = 'black',cbar = False)\n",
    "plt.title('Part 2')\n",
    "\n",
    "fig.tight_layout(w_pad = 2)"
   ]
  },
  {
   "cell_type": "markdown",
   "id": "9ae5aad0",
   "metadata": {
    "papermill": {
     "duration": 0.014894,
     "end_time": "2022-12-22T05:37:35.938562",
     "exception": false,
     "start_time": "2022-12-22T05:37:35.923668",
     "status": "completed"
    },
    "tags": []
   },
   "source": [
    "- For feature selection, we will **exclude** the features having correlation values between **[-0.1,0.1]**.\n",
    "- V4, V11 are positively correlated and V7, V3, V16, V10, V12, V14, V17 are negatively correlated with the **Class** feature."
   ]
  },
  {
   "cell_type": "markdown",
   "id": "d1863647",
   "metadata": {
    "papermill": {
     "duration": 0.014975,
     "end_time": "2022-12-22T05:37:35.968579",
     "exception": false,
     "start_time": "2022-12-22T05:37:35.953604",
     "status": "completed"
    },
    "tags": []
   },
   "source": [
    "### **ANOVA Test :**"
   ]
  },
  {
   "cell_type": "code",
   "execution_count": 11,
   "id": "4fdf4d6d",
   "metadata": {
    "execution": {
     "iopub.execute_input": "2022-12-22T05:37:36.000754Z",
     "iopub.status.busy": "2022-12-22T05:37:36.000408Z",
     "iopub.status.idle": "2022-12-22T05:37:36.242882Z",
     "shell.execute_reply": "2022-12-22T05:37:36.241949Z"
    },
    "papermill": {
     "duration": 0.261123,
     "end_time": "2022-12-22T05:37:36.245097",
     "exception": false,
     "start_time": "2022-12-22T05:37:35.983974",
     "status": "completed"
    },
    "tags": []
   },
   "outputs": [],
   "source": [
    "from sklearn.feature_selection import SelectKBest\n",
    "from sklearn.feature_selection import f_classif"
   ]
  },
  {
   "cell_type": "code",
   "execution_count": 12,
   "id": "5c848ac6",
   "metadata": {
    "execution": {
     "iopub.execute_input": "2022-12-22T05:37:36.277401Z",
     "iopub.status.busy": "2022-12-22T05:37:36.276830Z",
     "iopub.status.idle": "2022-12-22T05:37:36.796703Z",
     "shell.execute_reply": "2022-12-22T05:37:36.795883Z"
    },
    "papermill": {
     "duration": 0.537963,
     "end_time": "2022-12-22T05:37:36.798642",
     "exception": false,
     "start_time": "2022-12-22T05:37:36.260679",
     "status": "completed"
    },
    "tags": []
   },
   "outputs": [
    {
     "data": {
      "image/png": "[encoded data removed]",
      "text/plain": [
       "<Figure size 360x720 with 2 Axes>"
      ]
     },
     "metadata": {
      "needs_background": "light"
     },
     "output_type": "display_data"
    }
   ],
   "source": [
    "features = data.loc[:,:'Amount']\n",
    "target = data.loc[:,'Class']\n",
    "\n",
    "best_features = SelectKBest(score_func = f_classif,k = 'all')\n",
    "fit = best_features.fit(features,target)\n",
    "\n",
    "featureScores = pd.DataFrame(data = fit.scores_,index = list(features.columns),columns = ['ANOVA Score']) \n",
    "featureScores = featureScores.sort_values(ascending = False,by = 'ANOVA Score')\n",
    "\n",
    "fig,ax = plt.subplots(nrows = 1,ncols = 2,figsize = (5,10))\n",
    "\n",
    "plt.subplot(1,2,1)\n",
    "sns.heatmap(featureScores.iloc[:15,:],annot = True,cmap = colors,linewidths = 0.4,linecolor = 'black',cbar = False, fmt = '.2f')\n",
    "plt.title('ANOVA Score : Part 1')\n",
    "\n",
    "plt.subplot(1,2,2)\n",
    "sns.heatmap(featureScores.iloc[15:30],annot = True,cmap = colors,linewidths = 0.4,linecolor = 'black',cbar = False, fmt = '.2f')\n",
    "plt.title('ANOVA Score : Part 2')\n",
    "\n",
    "fig.tight_layout(w_pad = 2)"
   ]
  },
  {
   "cell_type": "markdown",
   "id": "ea6acf08",
   "metadata": {
    "papermill": {
     "duration": 0.015555,
     "end_time": "2022-12-22T05:37:36.830543",
     "exception": false,
     "start_time": "2022-12-22T05:37:36.814988",
     "status": "completed"
    },
    "tags": []
   },
   "source": [
    "- Higher the value of the ANOVA score, higher the importance of that feature with the target variable.\n",
    "- From the above plot, we will reject features with values less than 50.\n",
    "- In this case, we will create 2 models based on features selected from the **Correlation Plot** & **ANOVA Score**."
   ]
  },
  {
   "cell_type": "markdown",
   "id": "eff4137b",
   "metadata": {
    "papermill": {
     "duration": 0.015487,
     "end_time": "2022-12-22T05:37:36.861975",
     "exception": false,
     "start_time": "2022-12-22T05:37:36.846488",
     "status": "completed"
    },
    "tags": []
   },
   "source": [
    "### **Dataset for Model based on Correlation Plot :**"
   ]
  },
  {
   "cell_type": "code",
   "execution_count": 13,
   "id": "6f9837af",
   "metadata": {
    "execution": {
     "iopub.execute_input": "2022-12-22T05:37:36.895151Z",
     "iopub.status.busy": "2022-12-22T05:37:36.894814Z",
     "iopub.status.idle": "2022-12-22T05:37:36.914867Z",
     "shell.execute_reply": "2022-12-22T05:37:36.914242Z"
    },
    "papermill": {
     "duration": 0.039057,
     "end_time": "2022-12-22T05:37:36.916710",
     "exception": false,
     "start_time": "2022-12-22T05:37:36.877653",
     "status": "completed"
    },
    "tags": []
   },
   "outputs": [
    {
     "data": {
      "text/html": [
       "<div>\n",
       "<style scoped>\n",
       "    .dataframe tbody tr th:only-of-type {\n",
       "        vertical-align: middle;\n",
       "    }\n",
       "\n",
       "    .dataframe tbody tr th {\n",
       "        vertical-align: top;\n",
       "    }\n",
       "\n",
       "    .dataframe thead th {\n",
       "        text-align: right;\n",
       "    }\n",
       "</style>\n",
       "<table border=\"1\" class=\"dataframe\">\n",
       "  <thead>\n",
       "    <tr style=\"text-align: right;\">\n",
       "      <th></th>\n",
       "      <th>V3</th>\n",
       "      <th>V4</th>\n",
       "      <th>V7</th>\n",
       "      <th>V10</th>\n",
       "      <th>V11</th>\n",
       "      <th>V12</th>\n",
       "      <th>V14</th>\n",
       "      <th>V16</th>\n",
       "      <th>V17</th>\n",
       "      <th>Class</th>\n",
       "    </tr>\n",
       "  </thead>\n",
       "  <tbody>\n",
       "    <tr>\n",
       "      <th>0</th>\n",
       "      <td>2.54</td>\n",
       "      <td>1.38</td>\n",
       "      <td>0.24</td>\n",
       "      <td>0.09</td>\n",
       "      <td>-0.55</td>\n",
       "      <td>-0.62</td>\n",
       "      <td>-0.31</td>\n",
       "      <td>-0.47</td>\n",
       "      <td>0.21</td>\n",
       "      <td>0</td>\n",
       "    </tr>\n",
       "    <tr>\n",
       "      <th>1</th>\n",
       "      <td>0.17</td>\n",
       "      <td>0.45</td>\n",
       "      <td>-0.08</td>\n",
       "      <td>-0.17</td>\n",
       "      <td>1.61</td>\n",
       "      <td>1.07</td>\n",
       "      <td>-0.14</td>\n",
       "      <td>0.46</td>\n",
       "      <td>-0.11</td>\n",
       "      <td>0</td>\n",
       "    </tr>\n",
       "    <tr>\n",
       "      <th>2</th>\n",
       "      <td>1.77</td>\n",
       "      <td>0.38</td>\n",
       "      <td>0.79</td>\n",
       "      <td>0.21</td>\n",
       "      <td>0.62</td>\n",
       "      <td>0.07</td>\n",
       "      <td>-0.17</td>\n",
       "      <td>-2.89</td>\n",
       "      <td>1.11</td>\n",
       "      <td>0</td>\n",
       "    </tr>\n",
       "    <tr>\n",
       "      <th>3</th>\n",
       "      <td>1.79</td>\n",
       "      <td>-0.86</td>\n",
       "      <td>0.24</td>\n",
       "      <td>-0.05</td>\n",
       "      <td>-0.23</td>\n",
       "      <td>0.18</td>\n",
       "      <td>-0.29</td>\n",
       "      <td>-1.06</td>\n",
       "      <td>-0.68</td>\n",
       "      <td>0</td>\n",
       "    </tr>\n",
       "    <tr>\n",
       "      <th>4</th>\n",
       "      <td>1.55</td>\n",
       "      <td>0.40</td>\n",
       "      <td>0.59</td>\n",
       "      <td>0.75</td>\n",
       "      <td>-0.82</td>\n",
       "      <td>0.54</td>\n",
       "      <td>-1.12</td>\n",
       "      <td>-0.45</td>\n",
       "      <td>-0.24</td>\n",
       "      <td>0</td>\n",
       "    </tr>\n",
       "  </tbody>\n",
       "</table>\n",
       "</div>"
      ],
      "text/plain": [
       "    V3    V4    V7   V10   V11   V12   V14   V16   V17  Class\n",
       "0 2.54  1.38  0.24  0.09 -0.55 -0.62 -0.31 -0.47  0.21      0\n",
       "1 0.17  0.45 -0.08 -0.17  1.61  1.07 -0.14  0.46 -0.11      0\n",
       "2 1.77  0.38  0.79  0.21  0.62  0.07 -0.17 -2.89  1.11      0\n",
       "3 1.79 -0.86  0.24 -0.05 -0.23  0.18 -0.29 -1.06 -0.68      0\n",
       "4 1.55  0.40  0.59  0.75 -0.82  0.54 -1.12 -0.45 -0.24      0"
      ]
     },
     "execution_count": 13,
     "metadata": {},
     "output_type": "execute_result"
    }
   ],
   "source": [
    "df1 = data[['V3','V4','V7','V10','V11','V12','V14','V16','V17','Class']].copy(deep = True)\n",
    "df1.head()"
   ]
  },
  {
   "cell_type": "markdown",
   "id": "fde7c10e",
   "metadata": {
    "papermill": {
     "duration": 0.015557,
     "end_time": "2022-12-22T05:37:36.948514",
     "exception": false,
     "start_time": "2022-12-22T05:37:36.932957",
     "status": "completed"
    },
    "tags": []
   },
   "source": [
    "#### **Dataset for Model based on ANOVA Score :**"
   ]
  },
  {
   "cell_type": "code",
   "execution_count": 14,
   "id": "7bc8c0ac",
   "metadata": {
    "execution": {
     "iopub.execute_input": "2022-12-22T05:37:36.981883Z",
     "iopub.status.busy": "2022-12-22T05:37:36.981563Z",
     "iopub.status.idle": "2022-12-22T05:37:37.018429Z",
     "shell.execute_reply": "2022-12-22T05:37:37.017519Z"
    },
    "papermill": {
     "duration": 0.055851,
     "end_time": "2022-12-22T05:37:37.020246",
     "exception": false,
     "start_time": "2022-12-22T05:37:36.964395",
     "status": "completed"
    },
    "tags": []
   },
   "outputs": [
    {
     "data": {
      "text/html": [
       "<div>\n",
       "<style scoped>\n",
       "    .dataframe tbody tr th:only-of-type {\n",
       "        vertical-align: middle;\n",
       "    }\n",
       "\n",
       "    .dataframe tbody tr th {\n",
       "        vertical-align: top;\n",
       "    }\n",
       "\n",
       "    .dataframe thead th {\n",
       "        text-align: right;\n",
       "    }\n",
       "</style>\n",
       "<table border=\"1\" class=\"dataframe\">\n",
       "  <thead>\n",
       "    <tr style=\"text-align: right;\">\n",
       "      <th></th>\n",
       "      <th>V1</th>\n",
       "      <th>V2</th>\n",
       "      <th>V3</th>\n",
       "      <th>V4</th>\n",
       "      <th>V5</th>\n",
       "      <th>V6</th>\n",
       "      <th>V7</th>\n",
       "      <th>V8</th>\n",
       "      <th>V9</th>\n",
       "      <th>V10</th>\n",
       "      <th>...</th>\n",
       "      <th>V12</th>\n",
       "      <th>V14</th>\n",
       "      <th>V16</th>\n",
       "      <th>V17</th>\n",
       "      <th>V18</th>\n",
       "      <th>V19</th>\n",
       "      <th>V20</th>\n",
       "      <th>V21</th>\n",
       "      <th>V27</th>\n",
       "      <th>Class</th>\n",
       "    </tr>\n",
       "  </thead>\n",
       "  <tbody>\n",
       "    <tr>\n",
       "      <th>0</th>\n",
       "      <td>-1.36</td>\n",
       "      <td>-0.07</td>\n",
       "      <td>2.54</td>\n",
       "      <td>1.38</td>\n",
       "      <td>-0.34</td>\n",
       "      <td>0.46</td>\n",
       "      <td>0.24</td>\n",
       "      <td>0.10</td>\n",
       "      <td>0.36</td>\n",
       "      <td>0.09</td>\n",
       "      <td>...</td>\n",
       "      <td>-0.62</td>\n",
       "      <td>-0.31</td>\n",
       "      <td>-0.47</td>\n",
       "      <td>0.21</td>\n",
       "      <td>0.03</td>\n",
       "      <td>0.40</td>\n",
       "      <td>0.25</td>\n",
       "      <td>-0.02</td>\n",
       "      <td>0.13</td>\n",
       "      <td>0</td>\n",
       "    </tr>\n",
       "    <tr>\n",
       "      <th>1</th>\n",
       "      <td>1.19</td>\n",
       "      <td>0.27</td>\n",
       "      <td>0.17</td>\n",
       "      <td>0.45</td>\n",
       "      <td>0.06</td>\n",
       "      <td>-0.08</td>\n",
       "      <td>-0.08</td>\n",
       "      <td>0.09</td>\n",
       "      <td>-0.26</td>\n",
       "      <td>-0.17</td>\n",
       "      <td>...</td>\n",
       "      <td>1.07</td>\n",
       "      <td>-0.14</td>\n",
       "      <td>0.46</td>\n",
       "      <td>-0.11</td>\n",
       "      <td>-0.18</td>\n",
       "      <td>-0.15</td>\n",
       "      <td>-0.07</td>\n",
       "      <td>-0.23</td>\n",
       "      <td>-0.01</td>\n",
       "      <td>0</td>\n",
       "    </tr>\n",
       "    <tr>\n",
       "      <th>2</th>\n",
       "      <td>-1.36</td>\n",
       "      <td>-1.34</td>\n",
       "      <td>1.77</td>\n",
       "      <td>0.38</td>\n",
       "      <td>-0.50</td>\n",
       "      <td>1.80</td>\n",
       "      <td>0.79</td>\n",
       "      <td>0.25</td>\n",
       "      <td>-1.51</td>\n",
       "      <td>0.21</td>\n",
       "      <td>...</td>\n",
       "      <td>0.07</td>\n",
       "      <td>-0.17</td>\n",
       "      <td>-2.89</td>\n",
       "      <td>1.11</td>\n",
       "      <td>-0.12</td>\n",
       "      <td>-2.26</td>\n",
       "      <td>0.52</td>\n",
       "      <td>0.25</td>\n",
       "      <td>-0.06</td>\n",
       "      <td>0</td>\n",
       "    </tr>\n",
       "    <tr>\n",
       "      <th>3</th>\n",
       "      <td>-0.97</td>\n",
       "      <td>-0.19</td>\n",
       "      <td>1.79</td>\n",
       "      <td>-0.86</td>\n",
       "      <td>-0.01</td>\n",
       "      <td>1.25</td>\n",
       "      <td>0.24</td>\n",
       "      <td>0.38</td>\n",
       "      <td>-1.39</td>\n",
       "      <td>-0.05</td>\n",
       "      <td>...</td>\n",
       "      <td>0.18</td>\n",
       "      <td>-0.29</td>\n",
       "      <td>-1.06</td>\n",
       "      <td>-0.68</td>\n",
       "      <td>1.97</td>\n",
       "      <td>-1.23</td>\n",
       "      <td>-0.21</td>\n",
       "      <td>-0.11</td>\n",
       "      <td>0.06</td>\n",
       "      <td>0</td>\n",
       "    </tr>\n",
       "    <tr>\n",
       "      <th>4</th>\n",
       "      <td>-1.16</td>\n",
       "      <td>0.88</td>\n",
       "      <td>1.55</td>\n",
       "      <td>0.40</td>\n",
       "      <td>-0.41</td>\n",
       "      <td>0.10</td>\n",
       "      <td>0.59</td>\n",
       "      <td>-0.27</td>\n",
       "      <td>0.82</td>\n",
       "      <td>0.75</td>\n",
       "      <td>...</td>\n",
       "      <td>0.54</td>\n",
       "      <td>-1.12</td>\n",
       "      <td>-0.45</td>\n",
       "      <td>-0.24</td>\n",
       "      <td>-0.04</td>\n",
       "      <td>0.80</td>\n",
       "      <td>0.41</td>\n",
       "      <td>-0.01</td>\n",
       "      <td>0.22</td>\n",
       "      <td>0</td>\n",
       "    </tr>\n",
       "  </tbody>\n",
       "</table>\n",
       "<p>5 rows × 21 columns</p>\n",
       "</div>"
      ],
      "text/plain": [
       "     V1    V2   V3    V4    V5    V6    V7    V8    V9   V10  ...   V12   V14  \\\n",
       "0 -1.36 -0.07 2.54  1.38 -0.34  0.46  0.24  0.10  0.36  0.09  ... -0.62 -0.31   \n",
       "1  1.19  0.27 0.17  0.45  0.06 -0.08 -0.08  0.09 -0.26 -0.17  ...  1.07 -0.14   \n",
       "2 -1.36 -1.34 1.77  0.38 -0.50  1.80  0.79  0.25 -1.51  0.21  ...  0.07 -0.17   \n",
       "3 -0.97 -0.19 1.79 -0.86 -0.01  1.25  0.24  0.38 -1.39 -0.05  ...  0.18 -0.29   \n",
       "4 -1.16  0.88 1.55  0.40 -0.41  0.10  0.59 -0.27  0.82  0.75  ...  0.54 -1.12   \n",
       "\n",
       "    V16   V17   V18   V19   V20   V21   V27  Class  \n",
       "0 -0.47  0.21  0.03  0.40  0.25 -0.02  0.13      0  \n",
       "1  0.46 -0.11 -0.18 -0.15 -0.07 -0.23 -0.01      0  \n",
       "2 -2.89  1.11 -0.12 -2.26  0.52  0.25 -0.06      0  \n",
       "3 -1.06 -0.68  1.97 -1.23 -0.21 -0.11  0.06      0  \n",
       "4 -0.45 -0.24 -0.04  0.80  0.41 -0.01  0.22      0  \n",
       "\n",
       "[5 rows x 21 columns]"
      ]
     },
     "execution_count": 14,
     "metadata": {},
     "output_type": "execute_result"
    }
   ],
   "source": [
    "df2 = data.copy(deep = True)\n",
    "df2.drop(columns = list(featureScores.index[20:]),inplace = True)\n",
    "df2.head()"
   ]
  },
  {
   "cell_type": "code",
   "execution_count": 15,
   "id": "550020fc",
   "metadata": {
    "execution": {
     "iopub.execute_input": "2022-12-22T05:37:37.087868Z",
     "iopub.status.busy": "2022-12-22T05:37:37.087539Z",
     "iopub.status.idle": "2022-12-22T05:37:37.382846Z",
     "shell.execute_reply": "2022-12-22T05:37:37.382073Z"
    },
    "papermill": {
     "duration": 0.314834,
     "end_time": "2022-12-22T05:37:37.384808",
     "exception": false,
     "start_time": "2022-12-22T05:37:37.069974",
     "status": "completed"
    },
    "tags": []
   },
   "outputs": [],
   "source": [
    "import imblearn\n",
    "from collections import Counter\n",
    "from imblearn.over_sampling import SMOTE\n",
    "from imblearn.under_sampling import RandomUnderSampler\n",
    "from imblearn.pipeline import Pipeline"
   ]
  },
  {
   "cell_type": "markdown",
   "id": "df1c9133",
   "metadata": {
    "papermill": {
     "duration": 0.015856,
     "end_time": "2022-12-22T05:37:37.416993",
     "exception": false,
     "start_time": "2022-12-22T05:37:37.401137",
     "status": "completed"
    },
    "tags": []
   },
   "source": [
    "#### **Data Balancing for Model based on Correlation Plot :**"
   ]
  },
  {
   "cell_type": "code",
   "execution_count": 16,
   "id": "dfb8e765",
   "metadata": {
    "execution": {
     "iopub.execute_input": "2022-12-22T05:37:37.450398Z",
     "iopub.status.busy": "2022-12-22T05:37:37.450030Z",
     "iopub.status.idle": "2022-12-22T05:37:37.512939Z",
     "shell.execute_reply": "2022-12-22T05:37:37.512149Z"
    },
    "papermill": {
     "duration": 0.081836,
     "end_time": "2022-12-22T05:37:37.514585",
     "exception": false,
     "start_time": "2022-12-22T05:37:37.432749",
     "status": "completed"
    },
    "tags": []
   },
   "outputs": [
    {
     "data": {
      "text/plain": [
       "Counter({0: 4920, 1: 2460})"
      ]
     },
     "execution_count": 16,
     "metadata": {},
     "output_type": "execute_result"
    }
   ],
   "source": [
    "over = SMOTE(sampling_strategy = 0.5)\n",
    "under = RandomUnderSampler(sampling_strategy = 0.1)\n",
    "f1 = df1.iloc[:,:9].values\n",
    "t1 = df1.iloc[:,9].values\n",
    "\n",
    "steps = [('under', under),('over', over)]\n",
    "pipeline = Pipeline(steps=steps)\n",
    "f1, t1 = pipeline.fit_resample(f1, t1)\n",
    "Counter(t1)"
   ]
  },
  {
   "cell_type": "markdown",
   "id": "f430adcb",
   "metadata": {
    "papermill": {
     "duration": 0.016118,
     "end_time": "2022-12-22T05:37:37.547274",
     "exception": false,
     "start_time": "2022-12-22T05:37:37.531156",
     "status": "completed"
    },
    "tags": []
   },
   "source": [
    "#### **Data Balancing for Model based on ANOVA Score :**"
   ]
  },
  {
   "cell_type": "code",
   "execution_count": 17,
   "id": "65ff5882",
   "metadata": {
    "execution": {
     "iopub.execute_input": "2022-12-22T05:37:37.581657Z",
     "iopub.status.busy": "2022-12-22T05:37:37.581340Z",
     "iopub.status.idle": "2022-12-22T05:37:37.652729Z",
     "shell.execute_reply": "2022-12-22T05:37:37.651966Z"
    },
    "papermill": {
     "duration": 0.091085,
     "end_time": "2022-12-22T05:37:37.654701",
     "exception": false,
     "start_time": "2022-12-22T05:37:37.563616",
     "status": "completed"
    },
    "tags": []
   },
   "outputs": [
    {
     "data": {
      "text/plain": [
       "Counter({0: 4920, 1: 2460})"
      ]
     },
     "execution_count": 17,
     "metadata": {},
     "output_type": "execute_result"
    }
   ],
   "source": [
    "over = SMOTE(sampling_strategy = 0.5)\n",
    "under = RandomUnderSampler(sampling_strategy = 0.1)\n",
    "f2 = df2.iloc[:,:20].values\n",
    "t2 = df2.iloc[:,20].values\n",
    "\n",
    "steps = [('under', under),('over', over)]\n",
    "pipeline = Pipeline(steps=steps)\n",
    "f2, t2 = pipeline.fit_resample(f2, t2)\n",
    "Counter(t2)"
   ]
  },
  {
   "cell_type": "markdown",
   "id": "6bdd39cd",
   "metadata": {
    "papermill": {
     "duration": 0.021624,
     "end_time": "2022-12-22T05:37:37.741701",
     "exception": false,
     "start_time": "2022-12-22T05:37:37.720077",
     "status": "completed"
    },
    "tags": []
   },
   "source": [
    "\n",
    "<h1>MODEL BUILDING</h1>"
   ]
  },
  {
   "cell_type": "code",
   "execution_count": 18,
   "id": "d2a1c33e",
   "metadata": {
    "execution": {
     "iopub.execute_input": "2022-12-22T05:37:37.781910Z",
     "iopub.status.busy": "2022-12-22T05:37:37.781580Z",
     "iopub.status.idle": "2022-12-22T05:37:37.786752Z",
     "shell.execute_reply": "2022-12-22T05:37:37.785959Z"
    },
    "papermill": {
     "duration": 0.025448,
     "end_time": "2022-12-22T05:37:37.788450",
     "exception": false,
     "start_time": "2022-12-22T05:37:37.763002",
     "status": "completed"
    },
    "tags": []
   },
   "outputs": [],
   "source": [
    "from sklearn.model_selection import train_test_split\n",
    "from sklearn.metrics import confusion_matrix\n",
    "from sklearn.metrics import roc_auc_score\n",
    "from sklearn.metrics import RocCurveDisplay\n",
    "from sklearn.metrics import plot_roc_curve\n",
    "from sklearn.model_selection import cross_val_score\n",
    "from sklearn.model_selection import GridSearchCV\n",
    "from sklearn.metrics import classification_report\n",
    "from sklearn.model_selection import RepeatedStratifiedKFold\n",
    "from sklearn.metrics import precision_recall_curve"
   ]
  },
  {
   "cell_type": "code",
   "execution_count": 19,
   "id": "7f811bcf",
   "metadata": {
    "execution": {
     "iopub.execute_input": "2022-12-22T05:37:37.823555Z",
     "iopub.status.busy": "2022-12-22T05:37:37.822964Z",
     "iopub.status.idle": "2022-12-22T05:37:37.830341Z",
     "shell.execute_reply": "2022-12-22T05:37:37.829362Z"
    },
    "papermill": {
     "duration": 0.02734,
     "end_time": "2022-12-22T05:37:37.832489",
     "exception": false,
     "start_time": "2022-12-22T05:37:37.805149",
     "status": "completed"
    },
    "tags": []
   },
   "outputs": [],
   "source": [
    "x_train1, x_test1, y_train1, y_test1 = train_test_split(f1, t1, test_size = 0.20, random_state = 2)\n",
    "x_train2, x_test2, y_train2, y_test2 = train_test_split(f2, t2, test_size = 0.20, random_state = 2)"
   ]
  },
  {
   "cell_type": "markdown",
   "id": "04120c7e",
   "metadata": {
    "papermill": {
     "duration": 0.0161,
     "end_time": "2022-12-22T05:37:37.865479",
     "exception": false,
     "start_time": "2022-12-22T05:37:37.849379",
     "status": "completed"
    },
    "tags": []
   },
   "source": [
    "- Splitting the data into **80 - 20 train - test** groups."
   ]
  },
  {
   "cell_type": "code",
   "execution_count": 20,
   "id": "add16c62",
   "metadata": {
    "execution": {
     "iopub.execute_input": "2022-12-22T05:37:37.899745Z",
     "iopub.status.busy": "2022-12-22T05:37:37.899152Z",
     "iopub.status.idle": "2022-12-22T05:37:37.907740Z",
     "shell.execute_reply": "2022-12-22T05:37:37.907174Z"
    },
    "papermill": {
     "duration": 0.027732,
     "end_time": "2022-12-22T05:37:37.909443",
     "exception": false,
     "start_time": "2022-12-22T05:37:37.881711",
     "status": "completed"
    },
    "tags": []
   },
   "outputs": [],
   "source": [
    "def model(classifier,x_train,y_train,x_test,y_test):\n",
    "    \n",
    "    classifier.fit(x_train,y_train)\n",
    "    prediction = classifier.predict(x_test)\n",
    "    cv = RepeatedStratifiedKFold(n_splits = 10,n_repeats = 3,random_state = 1)\n",
    "    print(\"Cross Validation Score : \",'{0:.2%}'.format(cross_val_score(classifier,x_train,y_train,cv = cv,scoring = 'roc_auc').mean()))\n",
    "    print(\"ROC_AUC Score : \",'{0:.2%}'.format(roc_auc_score(y_test,prediction)))\n",
    "    plot_roc_curve(classifier, x_test,y_test)\n",
    "    plt.title('ROC_AUC_Plot')\n",
    "    plt.show()\n",
    "    \n",
    "def model_evaluation(classifier,x_test,y_test):\n",
    "    \n",
    "    # Confusion Matrix\n",
    "    cm = confusion_matrix(y_test,classifier.predict(x_test))\n",
    "    names = ['True Neg','False Pos','False Neg','True Pos']\n",
    "    counts = [value for value in cm.flatten()]\n",
    "    percentages = ['{0:.2%}'.format(value) for value in cm.flatten()/np.sum(cm)]\n",
    "    labels = [f'{v1}\\n{v2}\\n{v3}' for v1, v2, v3 in zip(names,counts,percentages)]\n",
    "    labels = np.asarray(labels).reshape(2,2)\n",
    "    sns.heatmap(cm,annot = labels,cmap = 'Blues',fmt ='')\n",
    "    \n",
    "    # Classification Report\n",
    "    print(classification_report(y_test,classifier.predict(x_test)))"
   ]
  },
  {
   "cell_type": "markdown",
   "id": "f1a55cc0",
   "metadata": {
    "papermill": {
     "duration": 0.015986,
     "end_time": "2022-12-22T05:37:37.941631",
     "exception": false,
     "start_time": "2022-12-22T05:37:37.925645",
     "status": "completed"
    },
    "tags": []
   },
   "source": [
    "### **1] Logistic Regression :**"
   ]
  },
  {
   "cell_type": "code",
   "execution_count": 21,
   "id": "3d7ceff2",
   "metadata": {
    "execution": {
     "iopub.execute_input": "2022-12-22T05:37:37.975948Z",
     "iopub.status.busy": "2022-12-22T05:37:37.975122Z",
     "iopub.status.idle": "2022-12-22T05:37:37.979334Z",
     "shell.execute_reply": "2022-12-22T05:37:37.978746Z"
    },
    "papermill": {
     "duration": 0.023249,
     "end_time": "2022-12-22T05:37:37.980998",
     "exception": false,
     "start_time": "2022-12-22T05:37:37.957749",
     "status": "completed"
    },
    "tags": []
   },
   "outputs": [],
   "source": [
    "from sklearn.linear_model import LogisticRegression"
   ]
  },
  {
   "cell_type": "code",
   "execution_count": 22,
   "id": "61e3602d",
   "metadata": {
    "execution": {
     "iopub.execute_input": "2022-12-22T05:37:38.015229Z",
     "iopub.status.busy": "2022-12-22T05:37:38.014653Z",
     "iopub.status.idle": "2022-12-22T05:37:38.018641Z",
     "shell.execute_reply": "2022-12-22T05:37:38.018101Z"
    },
    "papermill": {
     "duration": 0.023035,
     "end_time": "2022-12-22T05:37:38.020299",
     "exception": false,
     "start_time": "2022-12-22T05:37:37.997264",
     "status": "completed"
    },
    "tags": []
   },
   "outputs": [],
   "source": [
    "classifier_lr = LogisticRegression(random_state = 0,C=10,penalty= 'l2') "
   ]
  },
  {
   "cell_type": "code",
   "execution_count": 23,
   "id": "7ebbf02c",
   "metadata": {
    "execution": {
     "iopub.execute_input": "2022-12-22T05:37:38.053649Z",
     "iopub.status.busy": "2022-12-22T05:37:38.053378Z",
     "iopub.status.idle": "2022-12-22T05:37:38.753112Z",
     "shell.execute_reply": "2022-12-22T05:37:38.752363Z"
    },
    "papermill": {
     "duration": 0.718822,
     "end_time": "2022-12-22T05:37:38.755245",
     "exception": false,
     "start_time": "2022-12-22T05:37:38.036423",
     "status": "completed"
    },
    "tags": []
   },
   "outputs": [
    {
     "name": "stdout",
     "output_type": "stream",
     "text": [
      "Cross Validation Score :  97.97%\n",
      "ROC_AUC Score :  92.54%\n"
     ]
    },
    {
     "name": "stderr",
     "output_type": "stream",
     "text": [
      "/opt/conda/lib/python3.7/site-packages/sklearn/utils/deprecation.py:87: FutureWarning: Function plot_roc_curve is deprecated; Function :func:`plot_roc_curve` is deprecated in 1.0 and will be removed in 1.2. Use one of the class methods: :meth:`sklearn.metric.RocCurveDisplay.from_predictions` or :meth:`sklearn.metric.RocCurveDisplay.from_estimator`.\n",
      "  warnings.warn(msg, category=FutureWarning)\n"
     ]
    },
    {
     "data": {
      "image/png": "[encoded data removed]",
      "text/plain": [
       "<Figure size 432x288 with 1 Axes>"
      ]
     },
     "metadata": {
      "needs_background": "light"
     },
     "output_type": "display_data"
    },
    {
     "name": "stdout",
     "output_type": "stream",
     "text": [
      "              precision    recall  f1-score   support\n",
      "\n",
      "           0       0.94      0.98      0.96       975\n",
      "           1       0.96      0.87      0.91       501\n",
      "\n",
      "    accuracy                           0.94      1476\n",
      "   macro avg       0.95      0.93      0.94      1476\n",
      "weighted avg       0.94      0.94      0.94      1476\n",
      "\n"
     ]
    },
    {
     "data": {
      "image/png": "[encoded data removed]",
      "text/plain": [
       "<Figure size 432x288 with 2 Axes>"
      ]
     },
     "metadata": {
      "needs_background": "light"
     },
     "output_type": "display_data"
    }
   ],
   "source": [
    "model(classifier_lr,x_train1,y_train1,x_test1,y_test1)\n",
    "model_evaluation(classifier_lr,x_test1,y_test1)"
   ]
  },
  {
   "cell_type": "markdown",
   "id": "2e477a59",
   "metadata": {
    "papermill": {
     "duration": 0.016847,
     "end_time": "2022-12-22T05:37:38.790435",
     "exception": false,
     "start_time": "2022-12-22T05:37:38.773588",
     "status": "completed"
    },
    "tags": []
   },
   "source": [
    "#### **ANOVA Score :**"
   ]
  },
  {
   "cell_type": "code",
   "execution_count": 24,
   "id": "1d6a20d7",
   "metadata": {
    "execution": {
     "iopub.execute_input": "2022-12-22T05:37:38.827049Z",
     "iopub.status.busy": "2022-12-22T05:37:38.825771Z",
     "iopub.status.idle": "2022-12-22T05:37:40.101403Z",
     "shell.execute_reply": "2022-12-22T05:37:40.100303Z"
    },
    "papermill": {
     "duration": 1.295781,
     "end_time": "2022-12-22T05:37:40.103307",
     "exception": false,
     "start_time": "2022-12-22T05:37:38.807526",
     "status": "completed"
    },
    "tags": []
   },
   "outputs": [
    {
     "name": "stdout",
     "output_type": "stream",
     "text": [
      "Cross Validation Score :  98.52%\n",
      "ROC_AUC Score :  93.45%\n"
     ]
    },
    {
     "name": "stderr",
     "output_type": "stream",
     "text": [
      "/opt/conda/lib/python3.7/site-packages/sklearn/utils/deprecation.py:87: FutureWarning: Function plot_roc_curve is deprecated; Function :func:`plot_roc_curve` is deprecated in 1.0 and will be removed in 1.2. Use one of the class methods: :meth:`sklearn.metric.RocCurveDisplay.from_predictions` or :meth:`sklearn.metric.RocCurveDisplay.from_estimator`.\n",
      "  warnings.warn(msg, category=FutureWarning)\n"
     ]
    },
    {
     "data": {
      "image/png": "[encoded data removed]",
      "text/plain": [
       "<Figure size 432x288 with 1 Axes>"
      ]
     },
     "metadata": {
      "needs_background": "light"
     },
     "output_type": "display_data"
    },
    {
     "name": "stdout",
     "output_type": "stream",
     "text": [
      "              precision    recall  f1-score   support\n",
      "\n",
      "           0       0.94      0.99      0.96       975\n",
      "           1       0.97      0.88      0.92       501\n",
      "\n",
      "    accuracy                           0.95      1476\n",
      "   macro avg       0.96      0.93      0.94      1476\n",
      "weighted avg       0.95      0.95      0.95      1476\n",
      "\n"
     ]
    },
    {
     "data": {
      "image/png": "[encoded data removed]",
      "text/plain": [
       "<Figure size 432x288 with 2 Axes>"
      ]
     },
     "metadata": {
      "needs_background": "light"
     },
     "output_type": "display_data"
    }
   ],
   "source": [
    "model(classifier_lr,x_train2,y_train2,x_test2,y_test2)\n",
    "model_evaluation(classifier_lr,x_test2,y_test2)"
   ]
  },
  {
   "cell_type": "markdown",
   "id": "152cdb52",
   "metadata": {
    "papermill": {
     "duration": 0.017299,
     "end_time": "2022-12-22T05:37:40.140740",
     "exception": false,
     "start_time": "2022-12-22T05:37:40.123441",
     "status": "completed"
    },
    "tags": []
   },
   "source": [
    "### **2] Support Vector Classifier :**"
   ]
  },
  {
   "cell_type": "code",
   "execution_count": 25,
   "id": "0c0966ef",
   "metadata": {
    "execution": {
     "iopub.execute_input": "2022-12-22T05:37:40.177756Z",
     "iopub.status.busy": "2022-12-22T05:37:40.177127Z",
     "iopub.status.idle": "2022-12-22T05:37:40.181472Z",
     "shell.execute_reply": "2022-12-22T05:37:40.180669Z"
    },
    "papermill": {
     "duration": 0.024674,
     "end_time": "2022-12-22T05:37:40.183080",
     "exception": false,
     "start_time": "2022-12-22T05:37:40.158406",
     "status": "completed"
    },
    "tags": []
   },
   "outputs": [],
   "source": [
    "from sklearn.svm import SVC"
   ]
  },
  {
   "cell_type": "code",
   "execution_count": 26,
   "id": "150fda5a",
   "metadata": {
    "execution": {
     "iopub.execute_input": "2022-12-22T05:37:40.220280Z",
     "iopub.status.busy": "2022-12-22T05:37:40.219949Z",
     "iopub.status.idle": "2022-12-22T05:37:40.224020Z",
     "shell.execute_reply": "2022-12-22T05:37:40.223226Z"
    },
    "papermill": {
     "duration": 0.024905,
     "end_time": "2022-12-22T05:37:40.225572",
     "exception": false,
     "start_time": "2022-12-22T05:37:40.200667",
     "status": "completed"
    },
    "tags": []
   },
   "outputs": [],
   "source": [
    "classifier_svc = SVC(kernel = 'linear',C = 0.1)"
   ]
  },
  {
   "cell_type": "code",
   "execution_count": 27,
   "id": "939952b7",
   "metadata": {
    "execution": {
     "iopub.execute_input": "2022-12-22T05:37:40.263422Z",
     "iopub.status.busy": "2022-12-22T05:37:40.262768Z",
     "iopub.status.idle": "2022-12-22T05:37:44.746425Z",
     "shell.execute_reply": "2022-12-22T05:37:44.745163Z"
    },
    "papermill": {
     "duration": 4.50497,
     "end_time": "2022-12-22T05:37:44.748750",
     "exception": false,
     "start_time": "2022-12-22T05:37:40.243780",
     "status": "completed"
    },
    "tags": []
   },
   "outputs": [
    {
     "name": "stdout",
     "output_type": "stream",
     "text": [
      "Cross Validation Score :  97.94%\n",
      "ROC_AUC Score :  92.34%\n"
     ]
    },
    {
     "name": "stderr",
     "output_type": "stream",
     "text": [
      "/opt/conda/lib/python3.7/site-packages/sklearn/utils/deprecation.py:87: FutureWarning: Function plot_roc_curve is deprecated; Function :func:`plot_roc_curve` is deprecated in 1.0 and will be removed in 1.2. Use one of the class methods: :meth:`sklearn.metric.RocCurveDisplay.from_predictions` or :meth:`sklearn.metric.RocCurveDisplay.from_estimator`.\n",
      "  warnings.warn(msg, category=FutureWarning)\n"
     ]
    },
    {
     "data": {
      "image/png": "[encoded data removed]",
      "text/plain": [
       "<Figure size 432x288 with 1 Axes>"
      ]
     },
     "metadata": {
      "needs_background": "light"
     },
     "output_type": "display_data"
    },
    {
     "name": "stdout",
     "output_type": "stream",
     "text": [
      "              precision    recall  f1-score   support\n",
      "\n",
      "           0       0.93      0.98      0.96       975\n",
      "           1       0.97      0.86      0.91       501\n",
      "\n",
      "    accuracy                           0.94      1476\n",
      "   macro avg       0.95      0.92      0.93      1476\n",
      "weighted avg       0.94      0.94      0.94      1476\n",
      "\n"
     ]
    },
    {
     "data": {
      "image/png": "[encoded data removed]",
      "text/plain": [
       "<Figure size 432x288 with 2 Axes>"
      ]
     },
     "metadata": {
      "needs_background": "light"
     },
     "output_type": "display_data"
    }
   ],
   "source": [
    "model(classifier_svc,x_train1,y_train1,x_test1,y_test1)\n",
    "model_evaluation(classifier_svc,x_test1,y_test1)"
   ]
  },
  {
   "cell_type": "markdown",
   "id": "6c0426c2",
   "metadata": {
    "papermill": {
     "duration": 0.01808,
     "end_time": "2022-12-22T05:37:44.785785",
     "exception": false,
     "start_time": "2022-12-22T05:37:44.767705",
     "status": "completed"
    },
    "tags": []
   },
   "source": [
    "#### **ANOVA Score :**"
   ]
  },
  {
   "cell_type": "code",
   "execution_count": 28,
   "id": "96279f99",
   "metadata": {
    "execution": {
     "iopub.execute_input": "2022-12-22T05:37:44.824023Z",
     "iopub.status.busy": "2022-12-22T05:37:44.823652Z",
     "iopub.status.idle": "2022-12-22T05:37:49.434893Z",
     "shell.execute_reply": "2022-12-22T05:37:49.433835Z"
    },
    "papermill": {
     "duration": 4.632609,
     "end_time": "2022-12-22T05:37:49.436705",
     "exception": false,
     "start_time": "2022-12-22T05:37:44.804096",
     "status": "completed"
    },
    "tags": []
   },
   "outputs": [
    {
     "name": "stdout",
     "output_type": "stream",
     "text": [
      "Cross Validation Score :  98.39%\n",
      "ROC_AUC Score :  93.05%\n"
     ]
    },
    {
     "name": "stderr",
     "output_type": "stream",
     "text": [
      "/opt/conda/lib/python3.7/site-packages/sklearn/utils/deprecation.py:87: FutureWarning: Function plot_roc_curve is deprecated; Function :func:`plot_roc_curve` is deprecated in 1.0 and will be removed in 1.2. Use one of the class methods: :meth:`sklearn.metric.RocCurveDisplay.from_predictions` or :meth:`sklearn.metric.RocCurveDisplay.from_estimator`.\n",
      "  warnings.warn(msg, category=FutureWarning)\n"
     ]
    },
    {
     "data": {
      "image/png": "[encoded data removed]",
      "text/plain": [
       "<Figure size 432x288 with 1 Axes>"
      ]
     },
     "metadata": {
      "needs_background": "light"
     },
     "output_type": "display_data"
    },
    {
     "name": "stdout",
     "output_type": "stream",
     "text": [
      "              precision    recall  f1-score   support\n",
      "\n",
      "           0       0.94      0.99      0.96       975\n",
      "           1       0.98      0.87      0.92       501\n",
      "\n",
      "    accuracy                           0.95      1476\n",
      "   macro avg       0.96      0.93      0.94      1476\n",
      "weighted avg       0.95      0.95      0.95      1476\n",
      "\n"
     ]
    },
    {
     "data": {
      "image/png": "[encoded data removed]",
      "text/plain": [
       "<Figure size 432x288 with 2 Axes>"
      ]
     },
     "metadata": {
      "needs_background": "light"
     },
     "output_type": "display_data"
    }
   ],
   "source": [
    "model(classifier_svc,x_train2,y_train2,x_test2,y_test2)\n",
    "model_evaluation(classifier_svc,x_test2,y_test2)"
   ]
  },
  {
   "cell_type": "markdown",
   "id": "e155fc9f",
   "metadata": {
    "papermill": {
     "duration": 0.018644,
     "end_time": "2022-12-22T05:37:49.474708",
     "exception": false,
     "start_time": "2022-12-22T05:37:49.456064",
     "status": "completed"
    },
    "tags": []
   },
   "source": [
    "### **3] Decision Tree Classifier :**"
   ]
  },
  {
   "cell_type": "code",
   "execution_count": 29,
   "id": "b2b181d7",
   "metadata": {
    "execution": {
     "iopub.execute_input": "2022-12-22T05:37:49.513824Z",
     "iopub.status.busy": "2022-12-22T05:37:49.513482Z",
     "iopub.status.idle": "2022-12-22T05:37:49.517998Z",
     "shell.execute_reply": "2022-12-22T05:37:49.516886Z"
    },
    "papermill": {
     "duration": 0.02615,
     "end_time": "2022-12-22T05:37:49.519824",
     "exception": false,
     "start_time": "2022-12-22T05:37:49.493674",
     "status": "completed"
    },
    "tags": []
   },
   "outputs": [],
   "source": [
    "from sklearn.tree import DecisionTreeClassifier"
   ]
  },
  {
   "cell_type": "code",
   "execution_count": 30,
   "id": "f7160438",
   "metadata": {
    "execution": {
     "iopub.execute_input": "2022-12-22T05:37:49.559122Z",
     "iopub.status.busy": "2022-12-22T05:37:49.558740Z",
     "iopub.status.idle": "2022-12-22T05:37:49.563279Z",
     "shell.execute_reply": "2022-12-22T05:37:49.562298Z"
    },
    "papermill": {
     "duration": 0.026678,
     "end_time": "2022-12-22T05:37:49.565379",
     "exception": false,
     "start_time": "2022-12-22T05:37:49.538701",
     "status": "completed"
    },
    "tags": []
   },
   "outputs": [],
   "source": [
    "classifier_dt = DecisionTreeClassifier(random_state = 1000,max_depth = 4,min_samples_leaf = 1)"
   ]
  },
  {
   "cell_type": "code",
   "execution_count": 31,
   "id": "1219fe43",
   "metadata": {
    "execution": {
     "iopub.execute_input": "2022-12-22T05:37:49.605861Z",
     "iopub.status.busy": "2022-12-22T05:37:49.605165Z",
     "iopub.status.idle": "2022-12-22T05:37:50.656994Z",
     "shell.execute_reply": "2022-12-22T05:37:50.656341Z"
    },
    "papermill": {
     "duration": 1.073847,
     "end_time": "2022-12-22T05:37:50.658755",
     "exception": false,
     "start_time": "2022-12-22T05:37:49.584908",
     "status": "completed"
    },
    "tags": []
   },
   "outputs": [
    {
     "name": "stdout",
     "output_type": "stream",
     "text": [
      "Cross Validation Score :  97.12%\n",
      "ROC_AUC Score :  92.87%\n"
     ]
    },
    {
     "name": "stderr",
     "output_type": "stream",
     "text": [
      "/opt/conda/lib/python3.7/site-packages/sklearn/utils/deprecation.py:87: FutureWarning: Function plot_roc_curve is deprecated; Function :func:`plot_roc_curve` is deprecated in 1.0 and will be removed in 1.2. Use one of the class methods: :meth:`sklearn.metric.RocCurveDisplay.from_predictions` or :meth:`sklearn.metric.RocCurveDisplay.from_estimator`.\n",
      "  warnings.warn(msg, category=FutureWarning)\n"
     ]
    },
    {
     "data": {
      "image/png": "[encoded data removed]",
      "text/plain": [
       "<Figure size 432x288 with 1 Axes>"
      ]
     },
     "metadata": {
      "needs_background": "light"
     },
     "output_type": "display_data"
    },
    {
     "name": "stdout",
     "output_type": "stream",
     "text": [
      "              precision    recall  f1-score   support\n",
      "\n",
      "           0       0.94      0.97      0.96       975\n",
      "           1       0.93      0.89      0.91       501\n",
      "\n",
      "    accuracy                           0.94      1476\n",
      "   macro avg       0.94      0.93      0.93      1476\n",
      "weighted avg       0.94      0.94      0.94      1476\n",
      "\n"
     ]
    },
    {
     "data": {
      "image/png": "[encoded data removed]",
      "text/plain": [
       "<Figure size 432x288 with 2 Axes>"
      ]
     },
     "metadata": {
      "needs_background": "light"
     },
     "output_type": "display_data"
    }
   ],
   "source": [
    "model(classifier_dt,x_train1,y_train1,x_test1,y_test1)\n",
    "model_evaluation(classifier_dt,x_test1,y_test1)"
   ]
  },
  {
   "cell_type": "markdown",
   "id": "87e9ae23",
   "metadata": {
    "papermill": {
     "duration": 0.020513,
     "end_time": "2022-12-22T05:37:50.699915",
     "exception": false,
     "start_time": "2022-12-22T05:37:50.679402",
     "status": "completed"
    },
    "tags": []
   },
   "source": [
    "#### **ANOVA Score :**"
   ]
  },
  {
   "cell_type": "code",
   "execution_count": 32,
   "id": "ec27df6b",
   "metadata": {
    "execution": {
     "iopub.execute_input": "2022-12-22T05:37:50.742271Z",
     "iopub.status.busy": "2022-12-22T05:37:50.741458Z",
     "iopub.status.idle": "2022-12-22T05:37:52.678750Z",
     "shell.execute_reply": "2022-12-22T05:37:52.678139Z"
    },
    "papermill": {
     "duration": 1.960129,
     "end_time": "2022-12-22T05:37:52.680312",
     "exception": false,
     "start_time": "2022-12-22T05:37:50.720183",
     "status": "completed"
    },
    "tags": []
   },
   "outputs": [
    {
     "name": "stdout",
     "output_type": "stream",
     "text": [
      "Cross Validation Score :  96.91%\n",
      "ROC_AUC Score :  92.75%\n"
     ]
    },
    {
     "name": "stderr",
     "output_type": "stream",
     "text": [
      "/opt/conda/lib/python3.7/site-packages/sklearn/utils/deprecation.py:87: FutureWarning: Function plot_roc_curve is deprecated; Function :func:`plot_roc_curve` is deprecated in 1.0 and will be removed in 1.2. Use one of the class methods: :meth:`sklearn.metric.RocCurveDisplay.from_predictions` or :meth:`sklearn.metric.RocCurveDisplay.from_estimator`.\n",
      "  warnings.warn(msg, category=FutureWarning)\n"
     ]
    },
    {
     "data": {
      "image/png": "[encoded data removed]",
      "text/plain": [
       "<Figure size 432x288 with 1 Axes>"
      ]
     },
     "metadata": {
      "needs_background": "light"
     },
     "output_type": "display_data"
    },
    {
     "name": "stdout",
     "output_type": "stream",
     "text": [
      "              precision    recall  f1-score   support\n",
      "\n",
      "           0       0.94      0.99      0.96       975\n",
      "           1       0.97      0.87      0.92       501\n",
      "\n",
      "    accuracy                           0.95      1476\n",
      "   macro avg       0.95      0.93      0.94      1476\n",
      "weighted avg       0.95      0.95      0.95      1476\n",
      "\n"
     ]
    },
    {
     "data": {
      "image/png": "[encoded data removed]",
      "text/plain": [
       "<Figure size 432x288 with 2 Axes>"
      ]
     },
     "metadata": {
      "needs_background": "light"
     },
     "output_type": "display_data"
    }
   ],
   "source": [
    "model(classifier_dt,x_train2,y_train2,x_test2,y_test2)\n",
    "model_evaluation(classifier_dt,x_test2,y_test2)"
   ]
  },
  {
   "cell_type": "markdown",
   "id": "d460bb4a",
   "metadata": {
    "papermill": {
     "duration": 0.019701,
     "end_time": "2022-12-22T05:37:52.720139",
     "exception": false,
     "start_time": "2022-12-22T05:37:52.700438",
     "status": "completed"
    },
    "tags": []
   },
   "source": [
    "### **4] Random Forest Classifier :**"
   ]
  },
  {
   "cell_type": "code",
   "execution_count": 33,
   "id": "7b20d8fb",
   "metadata": {
    "execution": {
     "iopub.execute_input": "2022-12-22T05:37:52.761751Z",
     "iopub.status.busy": "2022-12-22T05:37:52.761167Z",
     "iopub.status.idle": "2022-12-22T05:37:52.764665Z",
     "shell.execute_reply": "2022-12-22T05:37:52.764065Z"
    },
    "papermill": {
     "duration": 0.026811,
     "end_time": "2022-12-22T05:37:52.766937",
     "exception": false,
     "start_time": "2022-12-22T05:37:52.740126",
     "status": "completed"
    },
    "tags": []
   },
   "outputs": [],
   "source": [
    "from sklearn.ensemble import RandomForestClassifier"
   ]
  },
  {
   "cell_type": "code",
   "execution_count": 34,
   "id": "739b2387",
   "metadata": {
    "execution": {
     "iopub.execute_input": "2022-12-22T05:37:52.811953Z",
     "iopub.status.busy": "2022-12-22T05:37:52.811534Z",
     "iopub.status.idle": "2022-12-22T05:37:52.816083Z",
     "shell.execute_reply": "2022-12-22T05:37:52.815080Z"
    },
    "papermill": {
     "duration": 0.028835,
     "end_time": "2022-12-22T05:37:52.817889",
     "exception": false,
     "start_time": "2022-12-22T05:37:52.789054",
     "status": "completed"
    },
    "tags": []
   },
   "outputs": [],
   "source": [
    "classifier_rf = RandomForestClassifier(max_depth = 4,random_state = 0)"
   ]
  },
  {
   "cell_type": "code",
   "execution_count": 35,
   "id": "49686372",
   "metadata": {
    "execution": {
     "iopub.execute_input": "2022-12-22T05:37:52.861581Z",
     "iopub.status.busy": "2022-12-22T05:37:52.861046Z",
     "iopub.status.idle": "2022-12-22T05:38:12.888850Z",
     "shell.execute_reply": "2022-12-22T05:38:12.887974Z"
    },
    "papermill": {
     "duration": 20.052328,
     "end_time": "2022-12-22T05:38:12.891376",
     "exception": false,
     "start_time": "2022-12-22T05:37:52.839048",
     "status": "completed"
    },
    "tags": []
   },
   "outputs": [
    {
     "name": "stdout",
     "output_type": "stream",
     "text": [
      "Cross Validation Score :  97.91%\n",
      "ROC_AUC Score :  93.06%\n"
     ]
    },
    {
     "name": "stderr",
     "output_type": "stream",
     "text": [
      "/opt/conda/lib/python3.7/site-packages/sklearn/utils/deprecation.py:87: FutureWarning: Function plot_roc_curve is deprecated; Function :func:`plot_roc_curve` is deprecated in 1.0 and will be removed in 1.2. Use one of the class methods: :meth:`sklearn.metric.RocCurveDisplay.from_predictions` or :meth:`sklearn.metric.RocCurveDisplay.from_estimator`.\n",
      "  warnings.warn(msg, category=FutureWarning)\n"
     ]
    },
    {
     "data": {
      "image/png": "[encoded data removed]",
      "text/plain": [
       "<Figure size 432x288 with 1 Axes>"
      ]
     },
     "metadata": {
      "needs_background": "light"
     },
     "output_type": "display_data"
    },
    {
     "name": "stdout",
     "output_type": "stream",
     "text": [
      "              precision    recall  f1-score   support\n",
      "\n",
      "           0       0.94      0.99      0.96       975\n",
      "           1       0.99      0.87      0.92       501\n",
      "\n",
      "    accuracy                           0.95      1476\n",
      "   macro avg       0.96      0.93      0.94      1476\n",
      "weighted avg       0.95      0.95      0.95      1476\n",
      "\n"
     ]
    },
    {
     "data": {
      "image/png": "[encoded data removed]",
      "text/plain": [
       "<Figure size 432x288 with 2 Axes>"
      ]
     },
     "metadata": {
      "needs_background": "light"
     },
     "output_type": "display_data"
    }
   ],
   "source": [
    "model(classifier_rf,x_train1,y_train1,x_test1,y_test1)\n",
    "model_evaluation(classifier_rf,x_test1,y_test1)"
   ]
  },
  {
   "cell_type": "markdown",
   "id": "6d7b0429",
   "metadata": {
    "papermill": {
     "duration": 0.0209,
     "end_time": "2022-12-22T05:38:12.933457",
     "exception": false,
     "start_time": "2022-12-22T05:38:12.912557",
     "status": "completed"
    },
    "tags": []
   },
   "source": [
    "#### **ANOVA Score :**"
   ]
  },
  {
   "cell_type": "code",
   "execution_count": 36,
   "id": "35538ff1",
   "metadata": {
    "execution": {
     "iopub.execute_input": "2022-12-22T05:38:12.977265Z",
     "iopub.status.busy": "2022-12-22T05:38:12.976941Z",
     "iopub.status.idle": "2022-12-22T05:38:37.706527Z",
     "shell.execute_reply": "2022-12-22T05:38:37.705835Z"
    },
    "papermill": {
     "duration": 24.753835,
     "end_time": "2022-12-22T05:38:37.708253",
     "exception": false,
     "start_time": "2022-12-22T05:38:12.954418",
     "status": "completed"
    },
    "tags": []
   },
   "outputs": [
    {
     "name": "stdout",
     "output_type": "stream",
     "text": [
      "Cross Validation Score :  98.09%\n",
      "ROC_AUC Score :  92.31%\n"
     ]
    },
    {
     "name": "stderr",
     "output_type": "stream",
     "text": [
      "/opt/conda/lib/python3.7/site-packages/sklearn/utils/deprecation.py:87: FutureWarning: Function plot_roc_curve is deprecated; Function :func:`plot_roc_curve` is deprecated in 1.0 and will be removed in 1.2. Use one of the class methods: :meth:`sklearn.metric.RocCurveDisplay.from_predictions` or :meth:`sklearn.metric.RocCurveDisplay.from_estimator`.\n",
      "  warnings.warn(msg, category=FutureWarning)\n"
     ]
    },
    {
     "data": {
      "image/png": "[encoded data removed]",
      "text/plain": [
       "<Figure size 432x288 with 1 Axes>"
      ]
     },
     "metadata": {
      "needs_background": "light"
     },
     "output_type": "display_data"
    },
    {
     "name": "stdout",
     "output_type": "stream",
     "text": [
      "              precision    recall  f1-score   support\n",
      "\n",
      "           0       0.93      1.00      0.96       975\n",
      "           1       0.99      0.85      0.92       501\n",
      "\n",
      "    accuracy                           0.95      1476\n",
      "   macro avg       0.96      0.92      0.94      1476\n",
      "weighted avg       0.95      0.95      0.95      1476\n",
      "\n"
     ]
    },
    {
     "data": {
      "image/png": "[encoded data removed]",
      "text/plain": [
       "<Figure size 432x288 with 2 Axes>"
      ]
     },
     "metadata": {
      "needs_background": "light"
     },
     "output_type": "display_data"
    }
   ],
   "source": [
    "model(classifier_rf,x_train2,y_train2,x_test2,y_test2)\n",
    "model_evaluation(classifier_rf,x_test2,y_test2)"
   ]
  },
  {
   "cell_type": "markdown",
   "id": "7ea500d2",
   "metadata": {
    "papermill": {
     "duration": 0.021012,
     "end_time": "2022-12-22T05:38:37.750715",
     "exception": false,
     "start_time": "2022-12-22T05:38:37.729703",
     "status": "completed"
    },
    "tags": []
   },
   "source": [
    "### **5] K-Nearest Neighbors :**"
   ]
  },
  {
   "cell_type": "code",
   "execution_count": 37,
   "id": "59d66708",
   "metadata": {
    "execution": {
     "iopub.execute_input": "2022-12-22T05:38:37.794954Z",
     "iopub.status.busy": "2022-12-22T05:38:37.794382Z",
     "iopub.status.idle": "2022-12-22T05:38:37.798312Z",
     "shell.execute_reply": "2022-12-22T05:38:37.797648Z"
    },
    "papermill": {
     "duration": 0.027971,
     "end_time": "2022-12-22T05:38:37.799953",
     "exception": false,
     "start_time": "2022-12-22T05:38:37.771982",
     "status": "completed"
    },
    "tags": []
   },
   "outputs": [],
   "source": [
    "from sklearn.neighbors import KNeighborsClassifier"
   ]
  },
  {
   "cell_type": "code",
   "execution_count": 38,
   "id": "8fa3387e",
   "metadata": {
    "execution": {
     "iopub.execute_input": "2022-12-22T05:38:37.844567Z",
     "iopub.status.busy": "2022-12-22T05:38:37.844011Z",
     "iopub.status.idle": "2022-12-22T05:38:37.848045Z",
     "shell.execute_reply": "2022-12-22T05:38:37.847451Z"
    },
    "papermill": {
     "duration": 0.028559,
     "end_time": "2022-12-22T05:38:37.849714",
     "exception": false,
     "start_time": "2022-12-22T05:38:37.821155",
     "status": "completed"
    },
    "tags": []
   },
   "outputs": [],
   "source": [
    "classifier_knn = KNeighborsClassifier(leaf_size = 1, n_neighbors = 3,p = 1)"
   ]
  },
  {
   "cell_type": "code",
   "execution_count": 39,
   "id": "ccc7f45e",
   "metadata": {
    "execution": {
     "iopub.execute_input": "2022-12-22T05:38:37.894185Z",
     "iopub.status.busy": "2022-12-22T05:38:37.893620Z",
     "iopub.status.idle": "2022-12-22T05:38:41.280904Z",
     "shell.execute_reply": "2022-12-22T05:38:41.279663Z"
    },
    "papermill": {
     "duration": 3.411662,
     "end_time": "2022-12-22T05:38:41.282864",
     "exception": false,
     "start_time": "2022-12-22T05:38:37.871202",
     "status": "completed"
    },
    "tags": []
   },
   "outputs": [
    {
     "name": "stdout",
     "output_type": "stream",
     "text": [
      "Cross Validation Score :  99.37%\n",
      "ROC_AUC Score :  98.22%\n"
     ]
    },
    {
     "name": "stderr",
     "output_type": "stream",
     "text": [
      "/opt/conda/lib/python3.7/site-packages/sklearn/utils/deprecation.py:87: FutureWarning: Function plot_roc_curve is deprecated; Function :func:`plot_roc_curve` is deprecated in 1.0 and will be removed in 1.2. Use one of the class methods: :meth:`sklearn.metric.RocCurveDisplay.from_predictions` or :meth:`sklearn.metric.RocCurveDisplay.from_estimator`.\n",
      "  warnings.warn(msg, category=FutureWarning)\n"
     ]
    },
    {
     "data": {
      "image/png": "[encoded data removed]",
      "text/plain": [
       "<Figure size 432x288 with 1 Axes>"
      ]
     },
     "metadata": {
      "needs_background": "light"
     },
     "output_type": "display_data"
    },
    {
     "name": "stdout",
     "output_type": "stream",
     "text": [
      "              precision    recall  f1-score   support\n",
      "\n",
      "           0       0.99      0.97      0.98       975\n",
      "           1       0.95      0.99      0.97       501\n",
      "\n",
      "    accuracy                           0.98      1476\n",
      "   macro avg       0.97      0.98      0.98      1476\n",
      "weighted avg       0.98      0.98      0.98      1476\n",
      "\n"
     ]
    },
    {
     "data": {
      "image/png": "[encoded data removed]",
      "text/plain": [
       "<Figure size 432x288 with 2 Axes>"
      ]
     },
     "metadata": {
      "needs_background": "light"
     },
     "output_type": "display_data"
    }
   ],
   "source": [
    "model(classifier_knn,x_train1,y_train1,x_test1,y_test1)\n",
    "model_evaluation(classifier_knn,x_test1,y_test1)"
   ]
  },
  {
   "cell_type": "markdown",
   "id": "81c254a2",
   "metadata": {
    "papermill": {
     "duration": 0.021401,
     "end_time": "2022-12-22T05:38:41.326194",
     "exception": false,
     "start_time": "2022-12-22T05:38:41.304793",
     "status": "completed"
    },
    "tags": []
   },
   "source": [
    "#### **ANOVA Score :**"
   ]
  },
  {
   "cell_type": "code",
   "execution_count": 40,
   "id": "ec51c569",
   "metadata": {
    "execution": {
     "iopub.execute_input": "2022-12-22T05:38:41.373826Z",
     "iopub.status.busy": "2022-12-22T05:38:41.373477Z",
     "iopub.status.idle": "2022-12-22T05:38:43.586549Z",
     "shell.execute_reply": "2022-12-22T05:38:43.585600Z"
    },
    "papermill": {
     "duration": 2.239841,
     "end_time": "2022-12-22T05:38:43.588498",
     "exception": false,
     "start_time": "2022-12-22T05:38:41.348657",
     "status": "completed"
    },
    "tags": []
   },
   "outputs": [
    {
     "name": "stdout",
     "output_type": "stream",
     "text": [
      "Cross Validation Score :  99.49%\n",
      "ROC_AUC Score :  97.87%\n"
     ]
    },
    {
     "name": "stderr",
     "output_type": "stream",
     "text": [
      "/opt/conda/lib/python3.7/site-packages/sklearn/utils/deprecation.py:87: FutureWarning: Function plot_roc_curve is deprecated; Function :func:`plot_roc_curve` is deprecated in 1.0 and will be removed in 1.2. Use one of the class methods: :meth:`sklearn.metric.RocCurveDisplay.from_predictions` or :meth:`sklearn.metric.RocCurveDisplay.from_estimator`.\n",
      "  warnings.warn(msg, category=FutureWarning)\n"
     ]
    },
    {
     "data": {
      "image/png": "[encoded data removed]",
      "text/plain": [
       "<Figure size 432x288 with 1 Axes>"
      ]
     },
     "metadata": {
      "needs_background": "light"
     },
     "output_type": "display_data"
    },
    {
     "name": "stdout",
     "output_type": "stream",
     "text": [
      "              precision    recall  f1-score   support\n",
      "\n",
      "           0       0.99      0.97      0.98       975\n",
      "           1       0.95      0.98      0.97       501\n",
      "\n",
      "    accuracy                           0.98      1476\n",
      "   macro avg       0.97      0.98      0.97      1476\n",
      "weighted avg       0.98      0.98      0.98      1476\n",
      "\n"
     ]
    },
    {
     "data": {
      "image/png": "[encoded data removed]",
      "text/plain": [
       "<Figure size 432x288 with 2 Axes>"
      ]
     },
     "metadata": {
      "needs_background": "light"
     },
     "output_type": "display_data"
    }
   ],
   "source": [
    "model(classifier_knn,x_train2,y_train2,x_test2,y_test2)\n",
    "model_evaluation(classifier_knn,x_test2,y_test2)"
   ]
  },
  {
   "cell_type": "markdown",
   "id": "43724a6c",
   "metadata": {
    "papermill": {
     "duration": 0.02347,
     "end_time": "2022-12-22T05:38:43.635048",
     "exception": false,
     "start_time": "2022-12-22T05:38:43.611578",
     "status": "completed"
    },
    "tags": []
   },
   "source": [
    "### **ML Alogrithm Results Table :**\n",
    "\n",
    "#### **Results Table for models based on Confusion matrix :** \n",
    "\n",
    "|Sr. No.|ML Algorithm|Cross Validation Score|ROC AUC Score|F1 Score (Fraud)|\n",
    "|-|-|-|-|-|\n",
    "|1|Logistic Regression|98.01%|92.35%|91%|\n",
    "|2|Support Vector Classifier|97.94%|92.10%|91%|\n",
    "|3|Decision Tree Classifier|96.67%|91.36%|90%|\n",
    "|4|Random Forest Classifier|97.84%|91.71%|91%|\n",
    "|5|K-Nearest Neighbors|99.34%|97.63%|97%|\n",
    " \n",
    "#### **Results Table for models based on ANOVA Score :**\n",
    "\n",
    "|Sr. No.|ML Algorithm|Cross Validation Score|ROC AUC Score|F1 Score (Fraud)|\n",
    "|-|-|-|-|-|\n",
    "|1|Logistic Regression|98.45%|94.69%|94%|\n",
    "|2|Support Vector Classifier|98.32%|94.40%|94%|\n",
    "|3|Decision Tree Classifier|97.13%|93.69%|93%|\n",
    "|4|Random Forest Classifier|98.20%|94.06%|94%|\n",
    "|5|K-Nearest Neighbors|99.54%|98.47%|97%|"
   ]
  },
  {
   "cell_type": "markdown",
   "id": "701583f6",
   "metadata": {
    "papermill": {
     "duration": 0.022634,
     "end_time": "2022-12-22T05:38:43.681204",
     "exception": false,
     "start_time": "2022-12-22T05:38:43.658570",
     "status": "completed"
    },
    "tags": []
   },
   "source": [
    "<h1>CONCLUSION</h1>\n",
    "\n",
    "- This is a great dataset to learn about binary classification problem with unbalanced data.\n",
    "\n",
    "\n",
    "- As the features are disguised, feature selection cannot be assisted based on the domain knowledge of the topic. Statistical tests hold the complete importance to select features for modeling.  \n",
    "\n",
    "\n",
    "- Due to the use of SMOTE analysis for balancing the data, the models trained on this synthetic data cannot be evaluated using accuracy. Hence, we resort to Cross Validation Score and ROC-AUC Score for model evaluation."
   ]
  }
 ],
 "metadata": {
  "kernelspec": {
   "display_name": "Python 3",
   "language": "python",
   "name": "python3"
  },
  "language_info": {
   "codemirror_mode": {
    "name": "ipython",
    "version": 3
   },
   "file_extension": ".py",
   "mimetype": "text/x-python",
   "name": "python",
   "nbconvert_exporter": "python",
   "pygments_lexer": "ipython3",
   "version": "3.7.12"
  },
  "papermill": {
   "default_parameters": {},
   "duration": 82.694455,
   "end_time": "2022-12-22T05:38:44.424413",
   "environment_variables": {},
   "exception": null,
   "input_path": "__notebook__.ipynb",
   "output_path": "__notebook__.ipynb",
   "parameters": {},
   "start_time": "2022-12-22T05:37:21.729958",
   "version": "2.3.4"
  }
 },
 "nbformat": 4,
 "nbformat_minor": 5
}
